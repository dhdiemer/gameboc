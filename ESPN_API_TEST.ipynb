{
 "cells": [
  {
   "cell_type": "code",
   "execution_count": 8,
   "id": "d9b6c251",
   "metadata": {},
   "outputs": [],
   "source": [
    "import requests\n",
    "import json"
   ]
  },
  {
   "cell_type": "code",
   "execution_count": 9,
   "id": "6fb499ce",
   "metadata": {},
   "outputs": [],
   "source": [
    "espn_url = \"http://site.api.espn.com/apis/site/v2/sports/hockey/nhl/scoreboard\""
   ]
  },
  {
   "cell_type": "code",
   "execution_count": 10,
   "id": "79fa6978",
   "metadata": {},
   "outputs": [],
   "source": [
    "response = requests.get(espn_url,timeout=5)\n"
   ]
  },
  {
   "cell_type": "code",
   "execution_count": 11,
   "id": "0f9e0567",
   "metadata": {},
   "outputs": [],
   "source": [
    "score_dict = response.json()"
   ]
  },
  {
   "cell_type": "code",
   "execution_count": 12,
   "id": "1558ccd1",
   "metadata": {},
   "outputs": [],
   "source": [
    "pretty_dict = json.dumps(score_dict, indent=2)"
   ]
  },
  {
   "cell_type": "code",
   "execution_count": 13,
   "id": "8118df46",
   "metadata": {},
   "outputs": [
    {
     "data": {
      "text/plain": [
       "dict_keys(['leagues', 'season', 'day', 'events'])"
      ]
     },
     "execution_count": 13,
     "metadata": {},
     "output_type": "execute_result"
    }
   ],
   "source": [
    "score_dict.keys()"
   ]
  },
  {
   "cell_type": "code",
   "execution_count": 14,
   "id": "b9c65469",
   "metadata": {},
   "outputs": [
    {
     "data": {
      "text/plain": [
       "list"
      ]
     },
     "execution_count": 14,
     "metadata": {},
     "output_type": "execute_result"
    }
   ],
   "source": [
    "type(score_dict['leagues'])"
   ]
  },
  {
   "cell_type": "code",
   "execution_count": 15,
   "id": "4c2b9252",
   "metadata": {},
   "outputs": [
    {
     "data": {
      "text/plain": [
       "dict"
      ]
     },
     "execution_count": 15,
     "metadata": {},
     "output_type": "execute_result"
    }
   ],
   "source": [
    "type(score_dict['events'][0])"
   ]
  },
  {
   "cell_type": "code",
   "execution_count": 16,
   "id": "932e9020",
   "metadata": {},
   "outputs": [],
   "source": [
    "# commenting out so there isnt a huge text blob on gh\n",
    "#score_dict['events'][0]"
   ]
  },
  {
   "cell_type": "code",
   "execution_count": 17,
   "id": "86db6c76",
   "metadata": {},
   "outputs": [],
   "source": [
    "all_games = score_dict['events']"
   ]
  },
  {
   "cell_type": "code",
   "execution_count": 18,
   "id": "c20ca475",
   "metadata": {},
   "outputs": [],
   "source": [
    "for i in range(len(all_games)):\n",
    "    if all_games[i]['id'] == \"401459316\":\n",
    "        print(\"LGB\")"
   ]
  },
  {
   "cell_type": "code",
   "execution_count": 19,
   "id": "70d157a2",
   "metadata": {},
   "outputs": [
    {
     "data": {
      "text/plain": [
       "dict_keys(['id', 'uid', 'date', 'name', 'shortName', 'season', 'competitions', 'links', 'status'])"
      ]
     },
     "execution_count": 19,
     "metadata": {},
     "output_type": "execute_result"
    }
   ],
   "source": [
    "all_games[0].keys()"
   ]
  },
  {
   "cell_type": "code",
   "execution_count": 20,
   "id": "755965ab",
   "metadata": {},
   "outputs": [
    {
     "data": {
      "text/plain": [
       "dict_keys(['year', 'type', 'slug'])"
      ]
     },
     "execution_count": 20,
     "metadata": {},
     "output_type": "execute_result"
    }
   ],
   "source": [
    "all_games[0][\"season\"].keys()"
   ]
  },
  {
   "cell_type": "code",
   "execution_count": 22,
   "id": "84531e5a",
   "metadata": {},
   "outputs": [
    {
     "data": {
      "text/plain": [
       "dict_keys(['id', 'uid', 'date', 'attendance', 'type', 'timeValid', 'neutralSite', 'recent', 'venue', 'competitors', 'notes', 'status', 'broadcasts', 'format', 'startDate', 'geoBroadcasts', 'headlines'])"
      ]
     },
     "execution_count": 22,
     "metadata": {},
     "output_type": "execute_result"
    }
   ],
   "source": [
    "all_games[0][\"competitions\"][0].keys()\n",
    "\n",
    "\"\"\"\n",
    "dict_keys(['id'\n",
    " 'uid'\n",
    " 'date'\n",
    " 'attendance'\n",
    " 'type'\n",
    " 'timeValid'\n",
    " 'neutralSite'\n",
    " 'recent'(9)\n",
    " 'venue'(11)\n",
    " 'competitors'(12)\n",
    " 'notes'(13)\n",
    " 'status'(14)\n",
    " 'broadcasts'(15)\n",
    " 'format'(16)\n",
    " 'tickets'(17)\n",
    " 'startDate'(18)\n",
    " 'geoBroadcasts'(19)\n",
    " 'odds'*\n",
    " ])\"\"\""
   ]
  },
  {
   "cell_type": "code",
   "execution_count": 23,
   "id": "916c3633",
   "metadata": {},
   "outputs": [
    {
     "data": {
      "text/plain": [
       "{'clock': 0.0,\n",
       " 'displayClock': '0:00',\n",
       " 'period': 3,\n",
       " 'type': {'id': '3',\n",
       "  'name': 'STATUS_FINAL',\n",
       "  'state': 'post',\n",
       "  'completed': True,\n",
       "  'description': 'Final',\n",
       "  'detail': 'Final',\n",
       "  'shortDetail': 'Final'}}"
      ]
     },
     "execution_count": 23,
     "metadata": {},
     "output_type": "execute_result"
    }
   ],
   "source": [
    "all_games[0][\"status\"]"
   ]
  },
  {
   "cell_type": "code",
   "execution_count": null,
   "id": "a37907e0",
   "metadata": {},
   "outputs": [],
   "source": []
  },
  {
   "cell_type": "code",
   "execution_count": 43,
   "id": "7b20f683",
   "metadata": {},
   "outputs": [
    {
     "data": {
      "text/plain": [
       "dict_keys(['id', 'uid', 'date', 'name', 'shortName', 'season', 'competitions', 'links', 'status'])"
      ]
     },
     "execution_count": 43,
     "metadata": {},
     "output_type": "execute_result"
    }
   ],
   "source": [
    "all_games[0].keys()"
   ]
  },
  {
   "cell_type": "code",
   "execution_count": 25,
   "id": "bde8c6db",
   "metadata": {},
   "outputs": [
    {
     "data": {
      "text/plain": [
       "'Ottawa Senators at Pittsburgh Penguins'"
      ]
     },
     "execution_count": 25,
     "metadata": {},
     "output_type": "execute_result"
    }
   ],
   "source": [
    "game = all_games[0]\n",
    "game['name']"
   ]
  },
  {
   "cell_type": "code",
   "execution_count": 26,
   "id": "d373c6d2",
   "metadata": {},
   "outputs": [
    {
     "data": {
      "text/plain": [
       "'OTT @ PIT'"
      ]
     },
     "execution_count": 26,
     "metadata": {},
     "output_type": "execute_result"
    }
   ],
   "source": [
    "game['shortName']"
   ]
  },
  {
   "cell_type": "code",
   "execution_count": 27,
   "id": "3b1d3469",
   "metadata": {},
   "outputs": [
    {
     "data": {
      "text/plain": [
       "{'year': 2023, 'type': 2, 'slug': 'regular-season'}"
      ]
     },
     "execution_count": 27,
     "metadata": {},
     "output_type": "execute_result"
    }
   ],
   "source": [
    "game['season']"
   ]
  },
  {
   "cell_type": "code",
   "execution_count": 28,
   "id": "0682290f",
   "metadata": {},
   "outputs": [
    {
     "data": {
      "text/plain": [
       "[{'language': 'en-US',\n",
       "  'rel': ['summary', 'desktop', 'event'],\n",
       "  'href': 'https://www.espn.com/nhl/game/_/gameId/401459319',\n",
       "  'text': 'Gamecast',\n",
       "  'shortText': 'Gamecast',\n",
       "  'isExternal': False,\n",
       "  'isPremium': False},\n",
       " {'language': 'en-US',\n",
       "  'rel': ['boxscore', 'desktop', 'event'],\n",
       "  'href': 'https://www.espn.com/nhl/boxscore/_/gameId/401459319',\n",
       "  'text': 'Box Score',\n",
       "  'shortText': 'Box Score',\n",
       "  'isExternal': False,\n",
       "  'isPremium': False},\n",
       " {'language': 'en-US',\n",
       "  'rel': ['highlights', 'desktop'],\n",
       "  'href': 'https://www.espn.com/nhl/video?gameId=401459319',\n",
       "  'text': 'Highlights',\n",
       "  'shortText': 'Highlights',\n",
       "  'isExternal': False,\n",
       "  'isPremium': False},\n",
       " {'language': 'en-US',\n",
       "  'rel': ['pbp', 'desktop', 'event'],\n",
       "  'href': 'https://www.espn.com/nhl/playbyplay/_/gameId/401459319',\n",
       "  'text': 'Play-by-Play',\n",
       "  'shortText': 'Play-by-Play',\n",
       "  'isExternal': False,\n",
       "  'isPremium': False},\n",
       " {'language': 'en-US',\n",
       "  'rel': ['recap', 'desktop', 'event'],\n",
       "  'href': 'https://www.espn.com/nhl/recap?gameId=401459319',\n",
       "  'text': 'Recap',\n",
       "  'shortText': 'Recap',\n",
       "  'isExternal': False,\n",
       "  'isPremium': False}]"
      ]
     },
     "execution_count": 28,
     "metadata": {},
     "output_type": "execute_result"
    }
   ],
   "source": [
    "game[\"links\"]"
   ]
  },
  {
   "cell_type": "code",
   "execution_count": 29,
   "id": "ab53b3f0",
   "metadata": {},
   "outputs": [
    {
     "data": {
      "text/plain": [
       "'401459319'"
      ]
     },
     "execution_count": 29,
     "metadata": {},
     "output_type": "execute_result"
    }
   ],
   "source": [
    "game['id']"
   ]
  },
  {
   "cell_type": "code",
   "execution_count": 30,
   "id": "c58b9616",
   "metadata": {},
   "outputs": [
    {
     "data": {
      "text/plain": [
       "1"
      ]
     },
     "execution_count": 30,
     "metadata": {},
     "output_type": "execute_result"
    }
   ],
   "source": [
    "type(game['competitions'])\n",
    "len(game['competitions'])"
   ]
  },
  {
   "cell_type": "code",
   "execution_count": 31,
   "id": "a0f63425",
   "metadata": {},
   "outputs": [
    {
     "data": {
      "text/plain": [
       "dict_keys(['id', 'uid', 'date', 'attendance', 'type', 'timeValid', 'neutralSite', 'recent', 'venue', 'competitors', 'notes', 'status', 'broadcasts', 'format', 'startDate', 'geoBroadcasts', 'headlines'])"
      ]
     },
     "execution_count": 31,
     "metadata": {},
     "output_type": "execute_result"
    }
   ],
   "source": [
    "type(game['competitions'][0])\n",
    "game['competitions'][0].keys()"
   ]
  },
  {
   "cell_type": "code",
   "execution_count": 61,
   "id": "4654e9c2",
   "metadata": {},
   "outputs": [
    {
     "data": {
      "text/plain": [
       "'401459319'"
      ]
     },
     "execution_count": 61,
     "metadata": {},
     "output_type": "execute_result"
    }
   ],
   "source": [
    "competitionKey = game['competitions'][0]\n",
    "competitionKey['id']"
   ]
  },
  {
   "cell_type": "code",
   "execution_count": 65,
   "id": "f8de7ef7",
   "metadata": {},
   "outputs": [
    {
     "data": {
      "text/plain": [
       "'2023-01-21T00:00Z'"
      ]
     },
     "execution_count": 65,
     "metadata": {},
     "output_type": "execute_result"
    }
   ],
   "source": [
    "competitionKey['date']"
   ]
  },
  {
   "cell_type": "code",
   "execution_count": 72,
   "id": "e68160fa",
   "metadata": {},
   "outputs": [
    {
     "data": {
      "text/plain": [
       "18237"
      ]
     },
     "execution_count": 72,
     "metadata": {},
     "output_type": "execute_result"
    }
   ],
   "source": [
    "#interesting i wonder when this gets updated \n",
    "competitionKey['attendance']"
   ]
  },
  {
   "cell_type": "code",
   "execution_count": 73,
   "id": "11ab9b2f",
   "metadata": {},
   "outputs": [
    {
     "data": {
      "text/plain": [
       "{'id': '1', 'abbreviation': 'STD'}"
      ]
     },
     "execution_count": 73,
     "metadata": {},
     "output_type": "execute_result"
    }
   ],
   "source": [
    "competitionKey['type']"
   ]
  },
  {
   "cell_type": "code",
   "execution_count": 74,
   "id": "b9a42b5d",
   "metadata": {},
   "outputs": [
    {
     "data": {
      "text/plain": [
       "True"
      ]
     },
     "execution_count": 74,
     "metadata": {},
     "output_type": "execute_result"
    }
   ],
   "source": [
    "competitionKey['timeValid']"
   ]
  },
  {
   "cell_type": "code",
   "execution_count": 72,
   "id": "07d6a072",
   "metadata": {},
   "outputs": [
    {
     "data": {
      "text/plain": [
       "False"
      ]
     },
     "execution_count": 72,
     "metadata": {},
     "output_type": "execute_result"
    }
   ],
   "source": [
    "#i assume this is like if its not hosted in either teams city\n",
    "competitionKey['neutralSite']"
   ]
  },
  {
   "cell_type": "code",
   "execution_count": 73,
   "id": "5cddd492",
   "metadata": {},
   "outputs": [
    {
     "data": {
      "text/plain": [
       "False"
      ]
     },
     "execution_count": 73,
     "metadata": {},
     "output_type": "execute_result"
    }
   ],
   "source": [
    "competitionKey['recent']"
   ]
  },
  {
   "cell_type": "code",
   "execution_count": 74,
   "id": "cd1879f5",
   "metadata": {},
   "outputs": [
    {
     "data": {
      "text/plain": [
       "{'id': '1837',\n",
       " 'fullName': 'PPG Paints Arena',\n",
       " 'address': {'city': 'Pittsburgh', 'state': 'PA', 'country': 'USA'},\n",
       " 'capacity': 18187,\n",
       " 'indoor': True}"
      ]
     },
     "execution_count": 74,
     "metadata": {},
     "output_type": "execute_result"
    }
   ],
   "source": [
    "competitionKey['venue']"
   ]
  },
  {
   "cell_type": "code",
   "execution_count": 79,
   "id": "69284529",
   "metadata": {},
   "outputs": [
    {
     "data": {
      "text/plain": [
       "2"
      ]
     },
     "execution_count": 79,
     "metadata": {},
     "output_type": "execute_result"
    }
   ],
   "source": [
    "len(competitionKey['competitors'])"
   ]
  },
  {
   "cell_type": "code",
   "execution_count": 87,
   "id": "11488d68",
   "metadata": {},
   "outputs": [],
   "source": [
    "homeTeam = competitionKey['competitors'][0]"
   ]
  },
  {
   "cell_type": "code",
   "execution_count": 88,
   "id": "997aaf8d",
   "metadata": {},
   "outputs": [],
   "source": [
    "awayTeam = competitionKey['competitors'][1]"
   ]
  },
  {
   "cell_type": "code",
   "execution_count": 71,
   "id": "f7a8bc4f",
   "metadata": {},
   "outputs": [
    {
     "name": "stdout",
     "output_type": "stream",
     "text": [
      "4\n",
      "1\n"
     ]
    }
   ],
   "source": [
    "print(homeTeam['score'])\n",
    "print(awayTeam['score'])\n"
   ]
  },
  {
   "cell_type": "code",
   "execution_count": 76,
   "id": "f405c495",
   "metadata": {},
   "outputs": [
    {
     "data": {
      "text/plain": [
       "[{'id': '16',\n",
       "  'uid': 's:70~l:90~t:16',\n",
       "  'type': 'team',\n",
       "  'order': 0,\n",
       "  'homeAway': 'home',\n",
       "  'winner': True,\n",
       "  'team': {'id': '16',\n",
       "   'uid': 's:70~l:90~t:16',\n",
       "   'location': 'Pittsburgh',\n",
       "   'name': 'Penguins',\n",
       "   'abbreviation': 'PIT',\n",
       "   'displayName': 'Pittsburgh Penguins',\n",
       "   'shortDisplayName': 'Penguins',\n",
       "   'color': '231f20',\n",
       "   'alternateColor': 'f0b128',\n",
       "   'isActive': True,\n",
       "   'venue': {'id': '1837'},\n",
       "   'links': [{'rel': ['clubhouse', 'desktop', 'team'],\n",
       "     'href': 'http://www.espn.com/nhl/team/_/name/pit/pittsburgh-penguins',\n",
       "     'text': 'Clubhouse',\n",
       "     'isExternal': False,\n",
       "     'isPremium': False},\n",
       "    {'rel': ['clubhouse', 'mobile', 'team'],\n",
       "     'href': 'http://m.espn.com/nhl/clubhouse?teamId=16',\n",
       "     'text': 'Clubhouse',\n",
       "     'isExternal': False,\n",
       "     'isPremium': False},\n",
       "    {'rel': ['roster', 'desktop', 'team'],\n",
       "     'href': 'http://www.espn.com/nhl/team/roster/_/name/pit/pittsburgh-penguins',\n",
       "     'text': 'Roster',\n",
       "     'isExternal': False,\n",
       "     'isPremium': False},\n",
       "    {'rel': ['stats', 'desktop', 'team'],\n",
       "     'href': 'http://www.espn.com/nhl/team/stats/_/name/pit/pittsburgh-penguins',\n",
       "     'text': 'Statistics',\n",
       "     'isExternal': False,\n",
       "     'isPremium': False},\n",
       "    {'rel': ['schedule', 'desktop', 'team'],\n",
       "     'href': 'https://www.espn.com/nhl/team/schedule/_/name/pit',\n",
       "     'text': 'Schedule',\n",
       "     'isExternal': False,\n",
       "     'isPremium': False},\n",
       "    {'rel': ['photos', 'desktop', 'team'],\n",
       "     'href': 'https://www.espn.com/nhl/team/photos/_/name/pit',\n",
       "     'text': 'photos',\n",
       "     'isExternal': False,\n",
       "     'isPremium': False},\n",
       "    {'rel': ['scores', 'sportscenter', 'app', 'team'],\n",
       "     'href': 'sportscenter://x-callback-url/showClubhouse?uid=s:70~l:90~t:16&section=scores',\n",
       "     'text': 'Scores',\n",
       "     'isExternal': False,\n",
       "     'isPremium': False},\n",
       "    {'rel': ['transactions', 'desktop', 'team'],\n",
       "     'href': 'http://www.espn.com/nhl/team/transactions/_/name/pit',\n",
       "     'text': 'Transactions',\n",
       "     'isExternal': False,\n",
       "     'isPremium': False},\n",
       "    {'rel': ['injuries', 'desktop', 'team'],\n",
       "     'href': 'http://www.espn.com/nhl/team/injuries/_/name/pit',\n",
       "     'text': 'Injuries',\n",
       "     'isExternal': False,\n",
       "     'isPremium': False}],\n",
       "   'logo': 'https://a.espncdn.com/i/teamlogos/nhl/500/scoreboard/pit.png'},\n",
       "  'score': '4',\n",
       "  'linescores': [{'value': 2.0}, {'value': 1.0}, {'value': 1.0}],\n",
       "  'statistics': [{'name': 'saves', 'abbreviation': 'SV', 'displayValue': '44'},\n",
       "   {'name': 'savePct', 'abbreviation': 'SV%', 'displayValue': '.978'},\n",
       "   {'name': 'goals', 'abbreviation': 'G', 'displayValue': '4'},\n",
       "   {'name': 'ytdGoals', 'abbreviation': 'YTDG', 'displayValue': '284'},\n",
       "   {'name': 'assists', 'abbreviation': 'A', 'displayValue': '5'},\n",
       "   {'name': 'points', 'abbreviation': 'PTS', 'displayValue': '9'}],\n",
       "  'leaders': [{'name': 'goals',\n",
       "    'displayName': 'Goals',\n",
       "    'shortDisplayName': 'Goals',\n",
       "    'abbreviation': 'G',\n",
       "    'leaders': [{'displayValue': '2',\n",
       "      'value': 2.0,\n",
       "      'athlete': {'id': '3042083',\n",
       "       'fullName': 'Jake Guentzel',\n",
       "       'displayName': 'Jake Guentzel',\n",
       "       'shortName': 'J. Guentzel',\n",
       "       'links': [{'rel': ['playercard', 'desktop', 'athlete'],\n",
       "         'href': 'https://www.espn.com/nhl/player/_/id/3042083'},\n",
       "        {'rel': ['stats', 'desktop', 'athlete'],\n",
       "         'href': 'http://www.espn.com/nhl/player/stats/_/id/3042083/jake-guentzel'},\n",
       "        {'rel': ['splits', 'desktop', 'athlete'],\n",
       "         'href': 'http://www.espn.com/nhl/player/splits/_/id/3042083/jake-guentzel'},\n",
       "        {'rel': ['gamelog', 'desktop', 'athlete'],\n",
       "         'href': 'http://www.espn.com/nhl/player/gamelog/_/id/3042083/jake-guentzel'},\n",
       "        {'rel': ['news', 'desktop', 'athlete'],\n",
       "         'href': 'http://www.espn.com/nhl/player/news/_/id/3042083/jake-guentzel'},\n",
       "        {'rel': ['bio', 'desktop', 'athlete'],\n",
       "         'href': 'http://www.espn.com/nhl/player/bio/_/id/3042083/jake-guentzel'},\n",
       "        {'rel': ['overview', 'desktop', 'athlete'],\n",
       "         'href': 'http://www.espn.com/nhl/player/_/id/3042083/jake-guentzel'}],\n",
       "       'headshot': 'https://a.espncdn.com/i/headshots/nhl/players/full/3042083.png',\n",
       "       'jersey': '59',\n",
       "       'position': {'abbreviation': 'LW'},\n",
       "       'team': {'id': '16'},\n",
       "       'active': True},\n",
       "      'team': {'id': '16'}}]},\n",
       "   {'name': 'assists',\n",
       "    'displayName': 'Assists',\n",
       "    'shortDisplayName': 'Assists',\n",
       "    'abbreviation': 'A',\n",
       "    'leaders': [{'displayValue': '2',\n",
       "      'value': 2.0,\n",
       "      'athlete': {'id': '2591155',\n",
       "       'fullName': 'Bryan Rust',\n",
       "       'displayName': 'Bryan Rust',\n",
       "       'shortName': 'B. Rust',\n",
       "       'links': [{'rel': ['playercard', 'desktop', 'athlete'],\n",
       "         'href': 'https://www.espn.com/nhl/player/_/id/2591155'},\n",
       "        {'rel': ['stats', 'desktop', 'athlete'],\n",
       "         'href': 'http://www.espn.com/nhl/player/stats/_/id/2591155/bryan-rust'},\n",
       "        {'rel': ['splits', 'desktop', 'athlete'],\n",
       "         'href': 'http://www.espn.com/nhl/player/splits/_/id/2591155/bryan-rust'},\n",
       "        {'rel': ['gamelog', 'desktop', 'athlete'],\n",
       "         'href': 'http://www.espn.com/nhl/player/gamelog/_/id/2591155/bryan-rust'},\n",
       "        {'rel': ['news', 'desktop', 'athlete'],\n",
       "         'href': 'http://www.espn.com/nhl/player/news/_/id/2591155/bryan-rust'},\n",
       "        {'rel': ['bio', 'desktop', 'athlete'],\n",
       "         'href': 'http://www.espn.com/nhl/player/bio/_/id/2591155/bryan-rust'},\n",
       "        {'rel': ['overview', 'desktop', 'athlete'],\n",
       "         'href': 'http://www.espn.com/nhl/player/_/id/2591155/bryan-rust'}],\n",
       "       'headshot': 'https://a.espncdn.com/i/headshots/nhl/players/full/2591155.png',\n",
       "       'jersey': '17',\n",
       "       'position': {'abbreviation': 'RW'},\n",
       "       'team': {'id': '16'},\n",
       "       'active': True},\n",
       "      'team': {'id': '16'}}]},\n",
       "   {'name': 'points',\n",
       "    'displayName': 'Points',\n",
       "    'shortDisplayName': 'Points',\n",
       "    'abbreviation': 'PTS',\n",
       "    'leaders': [{'displayValue': '3',\n",
       "      'value': 3.0,\n",
       "      'athlete': {'id': '3042083',\n",
       "       'fullName': 'Jake Guentzel',\n",
       "       'displayName': 'Jake Guentzel',\n",
       "       'shortName': 'J. Guentzel',\n",
       "       'links': [{'rel': ['playercard', 'desktop', 'athlete'],\n",
       "         'href': 'https://www.espn.com/nhl/player/_/id/3042083'},\n",
       "        {'rel': ['stats', 'desktop', 'athlete'],\n",
       "         'href': 'http://www.espn.com/nhl/player/stats/_/id/3042083/jake-guentzel'},\n",
       "        {'rel': ['splits', 'desktop', 'athlete'],\n",
       "         'href': 'http://www.espn.com/nhl/player/splits/_/id/3042083/jake-guentzel'},\n",
       "        {'rel': ['gamelog', 'desktop', 'athlete'],\n",
       "         'href': 'http://www.espn.com/nhl/player/gamelog/_/id/3042083/jake-guentzel'},\n",
       "        {'rel': ['news', 'desktop', 'athlete'],\n",
       "         'href': 'http://www.espn.com/nhl/player/news/_/id/3042083/jake-guentzel'},\n",
       "        {'rel': ['bio', 'desktop', 'athlete'],\n",
       "         'href': 'http://www.espn.com/nhl/player/bio/_/id/3042083/jake-guentzel'},\n",
       "        {'rel': ['overview', 'desktop', 'athlete'],\n",
       "         'href': 'http://www.espn.com/nhl/player/_/id/3042083/jake-guentzel'}],\n",
       "       'headshot': 'https://a.espncdn.com/i/headshots/nhl/players/full/3042083.png',\n",
       "       'jersey': '59',\n",
       "       'position': {'abbreviation': 'LW'},\n",
       "       'team': {'id': '16'},\n",
       "       'active': True},\n",
       "      'team': {'id': '16'}}]}],\n",
       "  'probables': [{'name': 'probableStartingGoalie',\n",
       "    'displayName': 'Probable Starting Goalie',\n",
       "    'shortDisplayName': 'Starter',\n",
       "    'abbreviation': 'SG',\n",
       "    'playerId': 3042020,\n",
       "    'athlete': {'id': '3042020',\n",
       "     'fullName': 'Tristan Jarry',\n",
       "     'displayName': 'Tristan Jarry',\n",
       "     'shortName': 'T. Jarry',\n",
       "     'links': [{'rel': ['playercard', 'desktop', 'athlete'],\n",
       "       'href': 'https://www.espn.com/nhl/player/_/id/3042020'},\n",
       "      {'rel': ['stats', 'desktop', 'athlete'],\n",
       "       'href': 'http://www.espn.com/nhl/player/stats/_/id/3042020/tristan-jarry'},\n",
       "      {'rel': ['splits', 'desktop', 'athlete'],\n",
       "       'href': 'http://www.espn.com/nhl/player/splits/_/id/3042020/tristan-jarry'},\n",
       "      {'rel': ['gamelog', 'desktop', 'athlete'],\n",
       "       'href': 'http://www.espn.com/nhl/player/gamelog/_/id/3042020/tristan-jarry'},\n",
       "      {'rel': ['news', 'desktop', 'athlete'],\n",
       "       'href': 'http://www.espn.com/nhl/player/news/_/id/3042020/tristan-jarry'},\n",
       "      {'rel': ['bio', 'desktop', 'athlete'],\n",
       "       'href': 'http://www.espn.com/nhl/player/bio/_/id/3042020/tristan-jarry'},\n",
       "      {'rel': ['overview', 'desktop', 'athlete'],\n",
       "       'href': 'http://www.espn.com/nhl/player/_/id/3042020/tristan-jarry'}],\n",
       "     'headshot': 'https://a.espncdn.com/i/headshots/nhl/players/full/3042020.png',\n",
       "     'jersey': '35',\n",
       "     'position': 'G',\n",
       "     'team': {'id': '16'}},\n",
       "    'status': {'id': '102',\n",
       "     'name': 'Confirmed',\n",
       "     'type': 'confirmed',\n",
       "     'abbreviation': 'Confirmed'},\n",
       "    'statistics': []}],\n",
       "  'records': [{'name': 'YTD',\n",
       "    'abbreviation': 'Game',\n",
       "    'type': 'ytd',\n",
       "    'summary': '23-15-7'},\n",
       "   {'name': 'Home', 'type': 'home', 'summary': '13-5-4'},\n",
       "   {'name': 'Road', 'type': 'road', 'summary': '10-10-3'}]},\n",
       " {'id': '14',\n",
       "  'uid': 's:70~l:90~t:14',\n",
       "  'type': 'team',\n",
       "  'order': 1,\n",
       "  'homeAway': 'away',\n",
       "  'winner': False,\n",
       "  'team': {'id': '14',\n",
       "   'uid': 's:70~l:90~t:14',\n",
       "   'location': 'Ottawa',\n",
       "   'name': 'Senators',\n",
       "   'abbreviation': 'OTT',\n",
       "   'displayName': 'Ottawa Senators',\n",
       "   'shortDisplayName': 'Senators',\n",
       "   'color': 'd01b35',\n",
       "   'alternateColor': 'c89a1c',\n",
       "   'isActive': True,\n",
       "   'venue': {'id': '1832'},\n",
       "   'links': [{'rel': ['clubhouse', 'desktop', 'team'],\n",
       "     'href': 'http://www.espn.com/nhl/team/_/name/ott/ottawa-senators',\n",
       "     'text': 'Clubhouse',\n",
       "     'isExternal': False,\n",
       "     'isPremium': False},\n",
       "    {'rel': ['clubhouse', 'mobile', 'team'],\n",
       "     'href': 'http://m.espn.com/nhl/clubhouse?teamId=14',\n",
       "     'text': 'Clubhouse',\n",
       "     'isExternal': False,\n",
       "     'isPremium': False},\n",
       "    {'rel': ['roster', 'desktop', 'team'],\n",
       "     'href': 'http://www.espn.com/nhl/team/roster/_/name/ott/ottawa-senators',\n",
       "     'text': 'Roster',\n",
       "     'isExternal': False,\n",
       "     'isPremium': False},\n",
       "    {'rel': ['stats', 'desktop', 'team'],\n",
       "     'href': 'http://www.espn.com/nhl/team/stats/_/name/ott/ottawa-senators',\n",
       "     'text': 'Statistics',\n",
       "     'isExternal': False,\n",
       "     'isPremium': False},\n",
       "    {'rel': ['schedule', 'desktop', 'team'],\n",
       "     'href': 'https://www.espn.com/nhl/team/schedule/_/name/ott',\n",
       "     'text': 'Schedule',\n",
       "     'isExternal': False,\n",
       "     'isPremium': False},\n",
       "    {'rel': ['photos', 'desktop', 'team'],\n",
       "     'href': 'https://www.espn.com/nhl/team/photos/_/name/ott',\n",
       "     'text': 'photos',\n",
       "     'isExternal': False,\n",
       "     'isPremium': False},\n",
       "    {'rel': ['scores', 'sportscenter', 'app', 'team'],\n",
       "     'href': 'sportscenter://x-callback-url/showClubhouse?uid=s:70~l:90~t:14&section=scores',\n",
       "     'text': 'Scores',\n",
       "     'isExternal': False,\n",
       "     'isPremium': False},\n",
       "    {'rel': ['transactions', 'desktop', 'team'],\n",
       "     'href': 'http://www.espn.com/nhl/team/transactions/_/name/ott',\n",
       "     'text': 'Transactions',\n",
       "     'isExternal': False,\n",
       "     'isPremium': False},\n",
       "    {'rel': ['injuries', 'desktop', 'team'],\n",
       "     'href': 'http://www.espn.com/nhl/team/injuries/_/name/ott',\n",
       "     'text': 'Injuries',\n",
       "     'isExternal': False,\n",
       "     'isPremium': False}],\n",
       "   'logo': 'https://a.espncdn.com/i/teamlogos/nhl/500/scoreboard/ott.png'},\n",
       "  'score': '1',\n",
       "  'linescores': [{'value': 0.0}, {'value': 1.0}, {'value': 0.0}],\n",
       "  'statistics': [{'name': 'saves', 'abbreviation': 'SV', 'displayValue': '40'},\n",
       "   {'name': 'savePct', 'abbreviation': 'SV%', 'displayValue': '.909'},\n",
       "   {'name': 'goals', 'abbreviation': 'G', 'displayValue': '1'},\n",
       "   {'name': 'ytdGoals', 'abbreviation': 'YTDG', 'displayValue': '261'},\n",
       "   {'name': 'assists', 'abbreviation': 'A', 'displayValue': '1'},\n",
       "   {'name': 'points', 'abbreviation': 'PTS', 'displayValue': '2'}],\n",
       "  'leaders': [{'name': 'goals',\n",
       "    'displayName': 'Goals',\n",
       "    'shortDisplayName': 'Goals',\n",
       "    'abbreviation': 'G',\n",
       "    'leaders': [{'displayValue': '1',\n",
       "      'value': 1.0,\n",
       "      'athlete': {'id': '4319858',\n",
       "       'fullName': 'Brady Tkachuk',\n",
       "       'displayName': 'Brady Tkachuk',\n",
       "       'shortName': 'B. Tkachuk',\n",
       "       'links': [{'rel': ['playercard', 'desktop', 'athlete'],\n",
       "         'href': 'https://www.espn.com/nhl/player/_/id/4319858'},\n",
       "        {'rel': ['stats', 'desktop', 'athlete'],\n",
       "         'href': 'http://www.espn.com/nhl/player/stats/_/id/4319858/brady-tkachuk'},\n",
       "        {'rel': ['splits', 'desktop', 'athlete'],\n",
       "         'href': 'http://www.espn.com/nhl/player/splits/_/id/4319858/brady-tkachuk'},\n",
       "        {'rel': ['gamelog', 'desktop', 'athlete'],\n",
       "         'href': 'http://www.espn.com/nhl/player/gamelog/_/id/4319858/brady-tkachuk'},\n",
       "        {'rel': ['news', 'desktop', 'athlete'],\n",
       "         'href': 'http://www.espn.com/nhl/player/news/_/id/4319858/brady-tkachuk'},\n",
       "        {'rel': ['bio', 'desktop', 'athlete'],\n",
       "         'href': 'http://www.espn.com/nhl/player/bio/_/id/4319858/brady-tkachuk'},\n",
       "        {'rel': ['overview', 'desktop', 'athlete'],\n",
       "         'href': 'http://www.espn.com/nhl/player/_/id/4319858/brady-tkachuk'}],\n",
       "       'headshot': 'https://a.espncdn.com/i/headshots/nhl/players/full/4319858.png',\n",
       "       'jersey': '7',\n",
       "       'position': {'abbreviation': 'LW'},\n",
       "       'team': {'id': '14'},\n",
       "       'active': True},\n",
       "      'team': {'id': '14'}}]},\n",
       "   {'name': 'assists',\n",
       "    'displayName': 'Assists',\n",
       "    'shortDisplayName': 'Assists',\n",
       "    'abbreviation': 'A',\n",
       "    'leaders': [{'displayValue': '1',\n",
       "      'value': 1.0,\n",
       "      'athlete': {'id': '4697384',\n",
       "       'fullName': 'Tim Stutzle',\n",
       "       'displayName': 'Tim Stutzle',\n",
       "       'shortName': 'T. Stutzle',\n",
       "       'links': [{'rel': ['playercard', 'desktop', 'athlete'],\n",
       "         'href': 'https://www.espn.com/nhl/player/_/id/4697384'},\n",
       "        {'rel': ['stats', 'desktop', 'athlete'],\n",
       "         'href': 'http://www.espn.com/nhl/player/stats/_/id/4697384/tim-stutzle'},\n",
       "        {'rel': ['splits', 'desktop', 'athlete'],\n",
       "         'href': 'http://www.espn.com/nhl/player/splits/_/id/4697384/tim-stutzle'},\n",
       "        {'rel': ['gamelog', 'desktop', 'athlete'],\n",
       "         'href': 'http://www.espn.com/nhl/player/gamelog/_/id/4697384/tim-stutzle'},\n",
       "        {'rel': ['news', 'desktop', 'athlete'],\n",
       "         'href': 'http://www.espn.com/nhl/player/news/_/id/4697384/tim-stutzle'},\n",
       "        {'rel': ['bio', 'desktop', 'athlete'],\n",
       "         'href': 'http://www.espn.com/nhl/player/bio/_/id/4697384/tim-stutzle'},\n",
       "        {'rel': ['overview', 'desktop', 'athlete'],\n",
       "         'href': 'http://www.espn.com/nhl/player/_/id/4697384/tim-stutzle'}],\n",
       "       'headshot': 'https://a.espncdn.com/i/headshots/nhl/players/full/4697384.png',\n",
       "       'jersey': '18',\n",
       "       'position': {'abbreviation': 'LW'},\n",
       "       'team': {'id': '14'},\n",
       "       'active': True},\n",
       "      'team': {'id': '14'}}]},\n",
       "   {'name': 'points',\n",
       "    'displayName': 'Points',\n",
       "    'shortDisplayName': 'Points',\n",
       "    'abbreviation': 'PTS',\n",
       "    'leaders': [{'displayValue': '1',\n",
       "      'value': 1.0,\n",
       "      'athlete': {'id': '4319858',\n",
       "       'fullName': 'Brady Tkachuk',\n",
       "       'displayName': 'Brady Tkachuk',\n",
       "       'shortName': 'B. Tkachuk',\n",
       "       'links': [{'rel': ['playercard', 'desktop', 'athlete'],\n",
       "         'href': 'https://www.espn.com/nhl/player/_/id/4319858'},\n",
       "        {'rel': ['stats', 'desktop', 'athlete'],\n",
       "         'href': 'http://www.espn.com/nhl/player/stats/_/id/4319858/brady-tkachuk'},\n",
       "        {'rel': ['splits', 'desktop', 'athlete'],\n",
       "         'href': 'http://www.espn.com/nhl/player/splits/_/id/4319858/brady-tkachuk'},\n",
       "        {'rel': ['gamelog', 'desktop', 'athlete'],\n",
       "         'href': 'http://www.espn.com/nhl/player/gamelog/_/id/4319858/brady-tkachuk'},\n",
       "        {'rel': ['news', 'desktop', 'athlete'],\n",
       "         'href': 'http://www.espn.com/nhl/player/news/_/id/4319858/brady-tkachuk'},\n",
       "        {'rel': ['bio', 'desktop', 'athlete'],\n",
       "         'href': 'http://www.espn.com/nhl/player/bio/_/id/4319858/brady-tkachuk'},\n",
       "        {'rel': ['overview', 'desktop', 'athlete'],\n",
       "         'href': 'http://www.espn.com/nhl/player/_/id/4319858/brady-tkachuk'}],\n",
       "       'headshot': 'https://a.espncdn.com/i/headshots/nhl/players/full/4319858.png',\n",
       "       'jersey': '7',\n",
       "       'position': {'abbreviation': 'LW'},\n",
       "       'team': {'id': '14'},\n",
       "       'active': True},\n",
       "      'team': {'id': '14'}}]}],\n",
       "  'probables': [{'name': 'probableStartingGoalie',\n",
       "    'displayName': 'Probable Starting Goalie',\n",
       "    'shortDisplayName': 'Starter',\n",
       "    'abbreviation': 'SG',\n",
       "    'playerId': 5734,\n",
       "    'athlete': {'id': '5734',\n",
       "     'fullName': 'Cam Talbot',\n",
       "     'displayName': 'Cam Talbot',\n",
       "     'shortName': 'C. Talbot',\n",
       "     'links': [{'rel': ['playercard', 'desktop', 'athlete'],\n",
       "       'href': 'https://www.espn.com/nhl/player/_/id/5734'},\n",
       "      {'rel': ['stats', 'desktop', 'athlete'],\n",
       "       'href': 'http://www.espn.com/nhl/player/stats/_/id/5734/cam-talbot'},\n",
       "      {'rel': ['splits', 'desktop', 'athlete'],\n",
       "       'href': 'http://www.espn.com/nhl/player/splits/_/id/5734/cam-talbot'},\n",
       "      {'rel': ['gamelog', 'desktop', 'athlete'],\n",
       "       'href': 'http://www.espn.com/nhl/player/gamelog/_/id/5734/cam-talbot'},\n",
       "      {'rel': ['news', 'desktop', 'athlete'],\n",
       "       'href': 'http://www.espn.com/nhl/player/news/_/id/5734/cam-talbot'},\n",
       "      {'rel': ['bio', 'desktop', 'athlete'],\n",
       "       'href': 'http://www.espn.com/nhl/player/bio/_/id/5734/cam-talbot'},\n",
       "      {'rel': ['overview', 'desktop', 'athlete'],\n",
       "       'href': 'http://www.espn.com/nhl/player/_/id/5734/cam-talbot'}],\n",
       "     'headshot': 'https://a.espncdn.com/i/headshots/nhl/players/full/5734.png',\n",
       "     'jersey': '33',\n",
       "     'position': 'G',\n",
       "     'team': {'id': '14'}},\n",
       "    'status': {'id': '102',\n",
       "     'name': 'Confirmed',\n",
       "     'type': 'confirmed',\n",
       "     'abbreviation': 'Confirmed'},\n",
       "    'statistics': []}],\n",
       "  'records': [{'name': 'YTD',\n",
       "    'abbreviation': 'Game',\n",
       "    'type': 'ytd',\n",
       "    'summary': '20-22-3'},\n",
       "   {'name': 'Home', 'type': 'home', 'summary': '12-10-1'},\n",
       "   {'name': 'Road', 'type': 'road', 'summary': '8-12-2'}]}]"
      ]
     },
     "execution_count": 76,
     "metadata": {},
     "output_type": "execute_result"
    }
   ],
   "source": [
    "competitionKey['competitors']"
   ]
  },
  {
   "cell_type": "code",
   "execution_count": 75,
   "id": "9b4c3557",
   "metadata": {},
   "outputs": [
    {
     "data": {
      "text/plain": [
       "'4'"
      ]
     },
     "execution_count": 75,
     "metadata": {},
     "output_type": "execute_result"
    }
   ],
   "source": [
    "response.json()['events'][0]['competitions'][0]['competitors'][0]['score']"
   ]
  },
  {
   "cell_type": "code",
   "execution_count": null,
   "id": "6289cc39",
   "metadata": {},
   "outputs": [],
   "source": []
  }
 ],
 "metadata": {
  "kernelspec": {
   "display_name": "Python 3 (ipykernel)",
   "language": "python",
   "name": "python3"
  },
  "language_info": {
   "codemirror_mode": {
    "name": "ipython",
    "version": 3
   },
   "file_extension": ".py",
   "mimetype": "text/x-python",
   "name": "python",
   "nbconvert_exporter": "python",
   "pygments_lexer": "ipython3",
   "version": "3.8.9"
  }
 },
 "nbformat": 4,
 "nbformat_minor": 5
}
