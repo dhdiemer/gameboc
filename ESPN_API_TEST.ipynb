{
 "cells": [
  {
   "cell_type": "code",
   "execution_count": 28,
   "id": "d9b6c251",
   "metadata": {},
   "outputs": [],
   "source": [
    "import requests\n",
    "import json"
   ]
  },
  {
   "cell_type": "code",
   "execution_count": 29,
   "id": "6fb499ce",
   "metadata": {},
   "outputs": [],
   "source": [
    "espn_url = \"http://site.api.espn.com/apis/site/v2/sports/hockey/nhl/scoreboard\""
   ]
  },
  {
   "cell_type": "code",
   "execution_count": 30,
   "id": "79fa6978",
   "metadata": {},
   "outputs": [],
   "source": [
    "response = requests.get(espn_url,timeout=5)\n"
   ]
  },
  {
   "cell_type": "code",
   "execution_count": 31,
   "id": "0f9e0567",
   "metadata": {},
   "outputs": [],
   "source": [
    "score_dict = response.json()"
   ]
  },
  {
   "cell_type": "code",
   "execution_count": 32,
   "id": "1558ccd1",
   "metadata": {},
   "outputs": [],
   "source": [
    "pretty_dict = json.dumps(score_dict, indent=2)"
   ]
  },
  {
   "cell_type": "code",
   "execution_count": 33,
   "id": "8118df46",
   "metadata": {},
   "outputs": [
    {
     "data": {
      "text/plain": [
       "dict_keys(['leagues', 'season', 'day', 'events'])"
      ]
     },
     "execution_count": 33,
     "metadata": {},
     "output_type": "execute_result"
    }
   ],
   "source": [
    "score_dict.keys()"
   ]
  },
  {
   "cell_type": "code",
   "execution_count": 34,
   "id": "b9c65469",
   "metadata": {},
   "outputs": [
    {
     "data": {
      "text/plain": [
       "list"
      ]
     },
     "execution_count": 34,
     "metadata": {},
     "output_type": "execute_result"
    }
   ],
   "source": [
    "type(score_dict['leagues'])"
   ]
  },
  {
   "cell_type": "code",
   "execution_count": 35,
   "id": "4c2b9252",
   "metadata": {},
   "outputs": [
    {
     "data": {
      "text/plain": [
       "dict"
      ]
     },
     "execution_count": 35,
     "metadata": {},
     "output_type": "execute_result"
    }
   ],
   "source": [
    "type(score_dict['events'][0])"
   ]
  },
  {
   "cell_type": "code",
   "execution_count": 36,
   "id": "932e9020",
   "metadata": {},
   "outputs": [],
   "source": [
    "# commenting out so there isnt a huge text blob on gh\n",
    "#score_dict['events'][0]"
   ]
  },
  {
   "cell_type": "code",
   "execution_count": 37,
   "id": "86db6c76",
   "metadata": {},
   "outputs": [],
   "source": [
    "all_games = score_dict['events']"
   ]
  },
  {
   "cell_type": "code",
   "execution_count": 38,
   "id": "c20ca475",
   "metadata": {},
   "outputs": [],
   "source": [
    "for i in range(len(all_games)):\n",
    "    if all_games[i]['id'] == \"401459316\":\n",
    "        print(\"LGB\")"
   ]
  },
  {
   "cell_type": "code",
   "execution_count": 39,
   "id": "70d157a2",
   "metadata": {},
   "outputs": [
    {
     "data": {
      "text/plain": [
       "dict_keys(['id', 'uid', 'date', 'name', 'shortName', 'season', 'competitions', 'links', 'status'])"
      ]
     },
     "execution_count": 39,
     "metadata": {},
     "output_type": "execute_result"
    }
   ],
   "source": [
    "all_games[0].keys()"
   ]
  },
  {
   "cell_type": "code",
   "execution_count": 40,
   "id": "755965ab",
   "metadata": {},
   "outputs": [
    {
     "data": {
      "text/plain": [
       "dict_keys(['year', 'type', 'slug'])"
      ]
     },
     "execution_count": 40,
     "metadata": {},
     "output_type": "execute_result"
    }
   ],
   "source": [
    "all_games[0][\"season\"].keys()"
   ]
  },
  {
   "cell_type": "code",
   "execution_count": 41,
   "id": "84531e5a",
   "metadata": {},
   "outputs": [
    {
     "data": {
      "text/plain": [
       "dict_keys(['id', 'uid', 'date', 'attendance', 'type', 'timeValid', 'neutralSite', 'recent', 'venue', 'competitors', 'notes', 'status', 'broadcasts', 'format', 'tickets', 'startDate', 'geoBroadcasts', 'odds'])"
      ]
     },
     "execution_count": 41,
     "metadata": {},
     "output_type": "execute_result"
    }
   ],
   "source": [
    "all_games[0][\"competitions\"][0].keys()"
   ]
  },
  {
   "cell_type": "code",
   "execution_count": 42,
   "id": "916c3633",
   "metadata": {},
   "outputs": [
    {
     "data": {
      "text/plain": [
       "{'clock': 0.0,\n",
       " 'displayClock': '0:00',\n",
       " 'period': 0,\n",
       " 'type': {'id': '1',\n",
       "  'name': 'STATUS_SCHEDULED',\n",
       "  'state': 'pre',\n",
       "  'completed': False,\n",
       "  'description': 'Scheduled',\n",
       "  'detail': 'Fri, January 20th at 7:00 PM EST',\n",
       "  'shortDetail': '1/20 - 7:00 PM EST'}}"
      ]
     },
     "execution_count": 42,
     "metadata": {},
     "output_type": "execute_result"
    }
   ],
   "source": [
    "all_games[0][\"status\"]"
   ]
  },
  {
   "cell_type": "code",
   "execution_count": null,
   "id": "a37907e0",
   "metadata": {},
   "outputs": [],
   "source": []
  },
  {
   "cell_type": "code",
   "execution_count": 43,
   "id": "7b20f683",
   "metadata": {},
   "outputs": [
    {
     "data": {
      "text/plain": [
       "dict_keys(['id', 'uid', 'date', 'name', 'shortName', 'season', 'competitions', 'links', 'status'])"
      ]
     },
     "execution_count": 43,
     "metadata": {},
     "output_type": "execute_result"
    }
   ],
   "source": [
    "all_games[0].keys()"
   ]
  },
  {
   "cell_type": "code",
   "execution_count": 44,
   "id": "bde8c6db",
   "metadata": {},
   "outputs": [
    {
     "data": {
      "text/plain": [
       "'Ottawa Senators at Pittsburgh Penguins'"
      ]
     },
     "execution_count": 44,
     "metadata": {},
     "output_type": "execute_result"
    }
   ],
   "source": [
    "game = all_games[0]\n",
    "game['name']"
   ]
  },
  {
   "cell_type": "code",
   "execution_count": 45,
   "id": "d373c6d2",
   "metadata": {},
   "outputs": [
    {
     "data": {
      "text/plain": [
       "'OTT @ PIT'"
      ]
     },
     "execution_count": 45,
     "metadata": {},
     "output_type": "execute_result"
    }
   ],
   "source": [
    "game['shortName']"
   ]
  },
  {
   "cell_type": "code",
   "execution_count": 63,
   "id": "3b1d3469",
   "metadata": {},
   "outputs": [
    {
     "data": {
      "text/plain": [
       "{'year': 2023, 'type': 2, 'slug': 'regular-season'}"
      ]
     },
     "execution_count": 63,
     "metadata": {},
     "output_type": "execute_result"
    }
   ],
   "source": [
    "game['season']"
   ]
  },
  {
   "cell_type": "code",
   "execution_count": 50,
   "id": "0682290f",
   "metadata": {},
   "outputs": [
    {
     "data": {
      "text/plain": [
       "[{'language': 'en-US',\n",
       "  'rel': ['summary', 'desktop', 'event'],\n",
       "  'href': 'https://www.espn.com/nhl/game/_/gameId/401459319',\n",
       "  'text': 'Gamecast',\n",
       "  'shortText': 'Gamecast',\n",
       "  'isExternal': False,\n",
       "  'isPremium': False}]"
      ]
     },
     "execution_count": 50,
     "metadata": {},
     "output_type": "execute_result"
    }
   ],
   "source": [
    "game[\"links\"]"
   ]
  },
  {
   "cell_type": "code",
   "execution_count": 64,
   "id": "ab53b3f0",
   "metadata": {},
   "outputs": [
    {
     "data": {
      "text/plain": [
       "'401459319'"
      ]
     },
     "execution_count": 64,
     "metadata": {},
     "output_type": "execute_result"
    }
   ],
   "source": [
    "game['id']"
   ]
  },
  {
   "cell_type": "code",
   "execution_count": 59,
   "id": "c58b9616",
   "metadata": {},
   "outputs": [
    {
     "data": {
      "text/plain": [
       "1"
      ]
     },
     "execution_count": 59,
     "metadata": {},
     "output_type": "execute_result"
    }
   ],
   "source": [
    "type(game['competitions'])\n",
    "len(game['competitions'])"
   ]
  },
  {
   "cell_type": "code",
   "execution_count": 54,
   "id": "a0f63425",
   "metadata": {},
   "outputs": [
    {
     "data": {
      "text/plain": [
       "dict_keys(['id', 'uid', 'date', 'attendance', 'type', 'timeValid', 'neutralSite', 'recent', 'venue', 'competitors', 'notes', 'status', 'broadcasts', 'format', 'tickets', 'startDate', 'geoBroadcasts', 'odds'])"
      ]
     },
     "execution_count": 54,
     "metadata": {},
     "output_type": "execute_result"
    }
   ],
   "source": [
    "type(game['competitions'][0])\n",
    "game['competitions'][0].keys()"
   ]
  },
  {
   "cell_type": "code",
   "execution_count": 61,
   "id": "4654e9c2",
   "metadata": {},
   "outputs": [
    {
     "data": {
      "text/plain": [
       "'401459319'"
      ]
     },
     "execution_count": 61,
     "metadata": {},
     "output_type": "execute_result"
    }
   ],
   "source": [
    "competitionKey = game['competitions'][0]\n",
    "competitionKey['id']"
   ]
  },
  {
   "cell_type": "code",
   "execution_count": 65,
   "id": "f8de7ef7",
   "metadata": {},
   "outputs": [
    {
     "data": {
      "text/plain": [
       "'2023-01-21T00:00Z'"
      ]
     },
     "execution_count": 65,
     "metadata": {},
     "output_type": "execute_result"
    }
   ],
   "source": [
    "competitionKey['date']"
   ]
  },
  {
   "cell_type": "code",
   "execution_count": 66,
   "id": "e68160fa",
   "metadata": {},
   "outputs": [
    {
     "data": {
      "text/plain": [
       "0"
      ]
     },
     "execution_count": 66,
     "metadata": {},
     "output_type": "execute_result"
    }
   ],
   "source": [
    "#interesting i wonder when this gets updated \n",
    "competitionKey['attendance']"
   ]
  },
  {
   "cell_type": "code",
   "execution_count": 69,
   "id": "11ab9b2f",
   "metadata": {},
   "outputs": [
    {
     "data": {
      "text/plain": [
       "{'id': '1', 'abbreviation': 'STD'}"
      ]
     },
     "execution_count": 69,
     "metadata": {},
     "output_type": "execute_result"
    }
   ],
   "source": [
    "competitionKey['type']"
   ]
  },
  {
   "cell_type": "code",
   "execution_count": 70,
   "id": "b9a42b5d",
   "metadata": {},
   "outputs": [
    {
     "data": {
      "text/plain": [
       "True"
      ]
     },
     "execution_count": 70,
     "metadata": {},
     "output_type": "execute_result"
    }
   ],
   "source": [
    "competitionKey['timeValid']"
   ]
  },
  {
   "cell_type": "code",
   "execution_count": 72,
   "id": "07d6a072",
   "metadata": {},
   "outputs": [
    {
     "data": {
      "text/plain": [
       "False"
      ]
     },
     "execution_count": 72,
     "metadata": {},
     "output_type": "execute_result"
    }
   ],
   "source": [
    "#i assume this is like if its not hosted in either teams city\n",
    "competitionKey['neutralSite']"
   ]
  },
  {
   "cell_type": "code",
   "execution_count": 73,
   "id": "5cddd492",
   "metadata": {},
   "outputs": [
    {
     "data": {
      "text/plain": [
       "False"
      ]
     },
     "execution_count": 73,
     "metadata": {},
     "output_type": "execute_result"
    }
   ],
   "source": [
    "competitionKey['recent']"
   ]
  },
  {
   "cell_type": "code",
   "execution_count": 74,
   "id": "cd1879f5",
   "metadata": {},
   "outputs": [
    {
     "data": {
      "text/plain": [
       "{'id': '1837',\n",
       " 'fullName': 'PPG Paints Arena',\n",
       " 'address': {'city': 'Pittsburgh', 'state': 'PA', 'country': 'USA'},\n",
       " 'capacity': 18187,\n",
       " 'indoor': True}"
      ]
     },
     "execution_count": 74,
     "metadata": {},
     "output_type": "execute_result"
    }
   ],
   "source": [
    "competitionKey['venue']"
   ]
  },
  {
   "cell_type": "code",
   "execution_count": 79,
   "id": "69284529",
   "metadata": {},
   "outputs": [
    {
     "data": {
      "text/plain": [
       "2"
      ]
     },
     "execution_count": 79,
     "metadata": {},
     "output_type": "execute_result"
    }
   ],
   "source": [
    "len(competitionKey['competitors'])"
   ]
  },
  {
   "cell_type": "code",
   "execution_count": 87,
   "id": "11488d68",
   "metadata": {},
   "outputs": [],
   "source": [
    "homeTeam = competitionKey['competitors'][0]"
   ]
  },
  {
   "cell_type": "code",
   "execution_count": 88,
   "id": "997aaf8d",
   "metadata": {},
   "outputs": [],
   "source": [
    "awayTeam = competitionKey['competitors'][1]"
   ]
  },
  {
   "cell_type": "code",
   "execution_count": 91,
   "id": "f7a8bc4f",
   "metadata": {},
   "outputs": [
    {
     "data": {
      "text/plain": [
       "'0'"
      ]
     },
     "execution_count": 91,
     "metadata": {},
     "output_type": "execute_result"
    }
   ],
   "source": [
    "homeTeam['score']"
   ]
  },
  {
   "cell_type": "code",
   "execution_count": 90,
   "id": "f405c495",
   "metadata": {},
   "outputs": [
    {
     "data": {
      "text/plain": [
       "[{'id': '16',\n",
       "  'uid': 's:70~l:90~t:16',\n",
       "  'type': 'team',\n",
       "  'order': 0,\n",
       "  'homeAway': 'home',\n",
       "  'team': {'id': '16',\n",
       "   'uid': 's:70~l:90~t:16',\n",
       "   'location': 'Pittsburgh',\n",
       "   'name': 'Penguins',\n",
       "   'abbreviation': 'PIT',\n",
       "   'displayName': 'Pittsburgh Penguins',\n",
       "   'shortDisplayName': 'Penguins',\n",
       "   'color': '231f20',\n",
       "   'alternateColor': 'f0b128',\n",
       "   'isActive': True,\n",
       "   'venue': {'id': '1837'},\n",
       "   'links': [{'rel': ['clubhouse', 'desktop', 'team'],\n",
       "     'href': 'http://www.espn.com/nhl/team/_/name/pit/pittsburgh-penguins',\n",
       "     'text': 'Clubhouse',\n",
       "     'isExternal': False,\n",
       "     'isPremium': False},\n",
       "    {'rel': ['clubhouse', 'mobile', 'team'],\n",
       "     'href': 'http://m.espn.com/nhl/clubhouse?teamId=16',\n",
       "     'text': 'Clubhouse',\n",
       "     'isExternal': False,\n",
       "     'isPremium': False},\n",
       "    {'rel': ['roster', 'desktop', 'team'],\n",
       "     'href': 'http://www.espn.com/nhl/team/roster/_/name/pit/pittsburgh-penguins',\n",
       "     'text': 'Roster',\n",
       "     'isExternal': False,\n",
       "     'isPremium': False},\n",
       "    {'rel': ['stats', 'desktop', 'team'],\n",
       "     'href': 'http://www.espn.com/nhl/team/stats/_/name/pit/pittsburgh-penguins',\n",
       "     'text': 'Statistics',\n",
       "     'isExternal': False,\n",
       "     'isPremium': False},\n",
       "    {'rel': ['schedule', 'desktop', 'team'],\n",
       "     'href': 'https://www.espn.com/nhl/team/schedule/_/name/pit',\n",
       "     'text': 'Schedule',\n",
       "     'isExternal': False,\n",
       "     'isPremium': False},\n",
       "    {'rel': ['photos', 'desktop', 'team'],\n",
       "     'href': 'https://www.espn.com/nhl/team/photos/_/name/pit',\n",
       "     'text': 'photos',\n",
       "     'isExternal': False,\n",
       "     'isPremium': False},\n",
       "    {'rel': ['scores', 'sportscenter', 'app', 'team'],\n",
       "     'href': 'sportscenter://x-callback-url/showClubhouse?uid=s:70~l:90~t:16&section=scores',\n",
       "     'text': 'Scores',\n",
       "     'isExternal': False,\n",
       "     'isPremium': False},\n",
       "    {'rel': ['transactions', 'desktop', 'team'],\n",
       "     'href': 'http://www.espn.com/nhl/team/transactions/_/name/pit',\n",
       "     'text': 'Transactions',\n",
       "     'isExternal': False,\n",
       "     'isPremium': False},\n",
       "    {'rel': ['injuries', 'desktop', 'team'],\n",
       "     'href': 'http://www.espn.com/nhl/team/injuries/_/name/pit',\n",
       "     'text': 'Injuries',\n",
       "     'isExternal': False,\n",
       "     'isPremium': False}],\n",
       "   'logo': 'https://a.espncdn.com/i/teamlogos/nhl/500/scoreboard/pit.png'},\n",
       "  'score': '0',\n",
       "  'leaders': [{'name': 'goals',\n",
       "    'displayName': 'Goals',\n",
       "    'shortDisplayName': 'Goals',\n",
       "    'abbreviation': 'G',\n",
       "    'leaders': [{'displayValue': '21',\n",
       "      'value': 21.0,\n",
       "      'athlete': {'id': '3114',\n",
       "       'fullName': 'Sidney Crosby',\n",
       "       'displayName': 'Sidney Crosby',\n",
       "       'shortName': 'S. Crosby',\n",
       "       'links': [{'rel': ['playercard', 'desktop', 'athlete'],\n",
       "         'href': 'https://www.espn.com/nhl/player/_/id/3114'},\n",
       "        {'rel': ['stats', 'desktop', 'athlete'],\n",
       "         'href': 'http://www.espn.com/nhl/player/stats/_/id/3114/sidney-crosby'},\n",
       "        {'rel': ['splits', 'desktop', 'athlete'],\n",
       "         'href': 'http://www.espn.com/nhl/player/splits/_/id/3114/sidney-crosby'},\n",
       "        {'rel': ['gamelog', 'desktop', 'athlete'],\n",
       "         'href': 'http://www.espn.com/nhl/player/gamelog/_/id/3114/sidney-crosby'},\n",
       "        {'rel': ['news', 'desktop', 'athlete'],\n",
       "         'href': 'http://www.espn.com/nhl/player/news/_/id/3114/sidney-crosby'},\n",
       "        {'rel': ['bio', 'desktop', 'athlete'],\n",
       "         'href': 'http://www.espn.com/nhl/player/bio/_/id/3114/sidney-crosby'},\n",
       "        {'rel': ['overview', 'desktop', 'athlete'],\n",
       "         'href': 'http://www.espn.com/nhl/player/_/id/3114/sidney-crosby'}],\n",
       "       'headshot': 'https://a.espncdn.com/i/headshots/nhl/players/full/3114.png',\n",
       "       'jersey': '87',\n",
       "       'position': {'abbreviation': 'C'},\n",
       "       'team': {'id': '16'},\n",
       "       'active': True},\n",
       "      'team': {'id': '16'}}]},\n",
       "   {'name': 'assists',\n",
       "    'displayName': 'Assists',\n",
       "    'shortDisplayName': 'Assists',\n",
       "    'abbreviation': 'A',\n",
       "    'leaders': [{'displayValue': '31',\n",
       "      'value': 31.0,\n",
       "      'athlete': {'id': '3114',\n",
       "       'fullName': 'Sidney Crosby',\n",
       "       'displayName': 'Sidney Crosby',\n",
       "       'shortName': 'S. Crosby',\n",
       "       'links': [{'rel': ['playercard', 'desktop', 'athlete'],\n",
       "         'href': 'https://www.espn.com/nhl/player/_/id/3114'},\n",
       "        {'rel': ['stats', 'desktop', 'athlete'],\n",
       "         'href': 'http://www.espn.com/nhl/player/stats/_/id/3114/sidney-crosby'},\n",
       "        {'rel': ['splits', 'desktop', 'athlete'],\n",
       "         'href': 'http://www.espn.com/nhl/player/splits/_/id/3114/sidney-crosby'},\n",
       "        {'rel': ['gamelog', 'desktop', 'athlete'],\n",
       "         'href': 'http://www.espn.com/nhl/player/gamelog/_/id/3114/sidney-crosby'},\n",
       "        {'rel': ['news', 'desktop', 'athlete'],\n",
       "         'href': 'http://www.espn.com/nhl/player/news/_/id/3114/sidney-crosby'},\n",
       "        {'rel': ['bio', 'desktop', 'athlete'],\n",
       "         'href': 'http://www.espn.com/nhl/player/bio/_/id/3114/sidney-crosby'},\n",
       "        {'rel': ['overview', 'desktop', 'athlete'],\n",
       "         'href': 'http://www.espn.com/nhl/player/_/id/3114/sidney-crosby'}],\n",
       "       'headshot': 'https://a.espncdn.com/i/headshots/nhl/players/full/3114.png',\n",
       "       'jersey': '87',\n",
       "       'position': {'abbreviation': 'C'},\n",
       "       'team': {'id': '16'},\n",
       "       'active': True},\n",
       "      'team': {'id': '16'}}]},\n",
       "   {'name': 'points',\n",
       "    'displayName': 'Points',\n",
       "    'shortDisplayName': 'Points',\n",
       "    'abbreviation': 'PTS',\n",
       "    'leaders': [{'displayValue': '52',\n",
       "      'value': 52.0,\n",
       "      'athlete': {'id': '3114',\n",
       "       'fullName': 'Sidney Crosby',\n",
       "       'displayName': 'Sidney Crosby',\n",
       "       'shortName': 'S. Crosby',\n",
       "       'links': [{'rel': ['playercard', 'desktop', 'athlete'],\n",
       "         'href': 'https://www.espn.com/nhl/player/_/id/3114'},\n",
       "        {'rel': ['stats', 'desktop', 'athlete'],\n",
       "         'href': 'http://www.espn.com/nhl/player/stats/_/id/3114/sidney-crosby'},\n",
       "        {'rel': ['splits', 'desktop', 'athlete'],\n",
       "         'href': 'http://www.espn.com/nhl/player/splits/_/id/3114/sidney-crosby'},\n",
       "        {'rel': ['gamelog', 'desktop', 'athlete'],\n",
       "         'href': 'http://www.espn.com/nhl/player/gamelog/_/id/3114/sidney-crosby'},\n",
       "        {'rel': ['news', 'desktop', 'athlete'],\n",
       "         'href': 'http://www.espn.com/nhl/player/news/_/id/3114/sidney-crosby'},\n",
       "        {'rel': ['bio', 'desktop', 'athlete'],\n",
       "         'href': 'http://www.espn.com/nhl/player/bio/_/id/3114/sidney-crosby'},\n",
       "        {'rel': ['overview', 'desktop', 'athlete'],\n",
       "         'href': 'http://www.espn.com/nhl/player/_/id/3114/sidney-crosby'}],\n",
       "       'headshot': 'https://a.espncdn.com/i/headshots/nhl/players/full/3114.png',\n",
       "       'jersey': '87',\n",
       "       'position': {'abbreviation': 'C'},\n",
       "       'team': {'id': '16'},\n",
       "       'active': True},\n",
       "      'team': {'id': '16'},\n",
       "      'statistics': [{'name': 'saves',\n",
       "        'displayName': 'Saves',\n",
       "        'shortDisplayName': 'Saves',\n",
       "        'description': 'Total saves.',\n",
       "        'abbreviation': 'SV',\n",
       "        'value': 0.0,\n",
       "        'displayValue': '0'},\n",
       "       {'name': 'savePct',\n",
       "        'displayName': 'Save Percentage',\n",
       "        'shortDisplayName': 'Save Percentage',\n",
       "        'description': 'Percentage of shots saved.',\n",
       "        'abbreviation': 'SV%',\n",
       "        'value': 0.0,\n",
       "        'displayValue': '.000'},\n",
       "       {'name': 'plusMinus',\n",
       "        'displayName': 'Plus/Minus Rating',\n",
       "        'shortDisplayName': 'Plus/Minus',\n",
       "        'description': 'Plus/Minus Rating',\n",
       "        'abbreviation': '+/-',\n",
       "        'value': 3.0,\n",
       "        'displayValue': '3'},\n",
       "       {'name': 'goals',\n",
       "        'displayName': 'Goals',\n",
       "        'shortDisplayName': 'Goals',\n",
       "        'description': 'Total goals scored.',\n",
       "        'abbreviation': 'G',\n",
       "        'value': 21.0,\n",
       "        'displayValue': '21'},\n",
       "       {'name': 'assists',\n",
       "        'displayName': 'Assists',\n",
       "        'shortDisplayName': 'Assists',\n",
       "        'description': 'Total goal assists.',\n",
       "        'abbreviation': 'A',\n",
       "        'value': 31.0,\n",
       "        'displayValue': '31'},\n",
       "       {'name': 'points',\n",
       "        'displayName': 'Points',\n",
       "        'shortDisplayName': 'Points',\n",
       "        'description': 'Points',\n",
       "        'abbreviation': 'PTS',\n",
       "        'value': 52.0,\n",
       "        'displayValue': '52'}]}]}],\n",
       "  'probables': [{'name': 'probableStartingGoalie',\n",
       "    'displayName': 'Probable Starting Goalie',\n",
       "    'shortDisplayName': 'Starter',\n",
       "    'abbreviation': 'SG',\n",
       "    'playerId': 3042020,\n",
       "    'athlete': {'id': '3042020',\n",
       "     'fullName': 'Tristan Jarry',\n",
       "     'displayName': 'Tristan Jarry',\n",
       "     'shortName': 'T. Jarry',\n",
       "     'links': [{'rel': ['playercard', 'desktop', 'athlete'],\n",
       "       'href': 'https://www.espn.com/nhl/player/_/id/3042020'},\n",
       "      {'rel': ['stats', 'desktop', 'athlete'],\n",
       "       'href': 'http://www.espn.com/nhl/player/stats/_/id/3042020/tristan-jarry'},\n",
       "      {'rel': ['splits', 'desktop', 'athlete'],\n",
       "       'href': 'http://www.espn.com/nhl/player/splits/_/id/3042020/tristan-jarry'},\n",
       "      {'rel': ['gamelog', 'desktop', 'athlete'],\n",
       "       'href': 'http://www.espn.com/nhl/player/gamelog/_/id/3042020/tristan-jarry'},\n",
       "      {'rel': ['news', 'desktop', 'athlete'],\n",
       "       'href': 'http://www.espn.com/nhl/player/news/_/id/3042020/tristan-jarry'},\n",
       "      {'rel': ['bio', 'desktop', 'athlete'],\n",
       "       'href': 'http://www.espn.com/nhl/player/bio/_/id/3042020/tristan-jarry'},\n",
       "      {'rel': ['overview', 'desktop', 'athlete'],\n",
       "       'href': 'http://www.espn.com/nhl/player/_/id/3042020/tristan-jarry'}],\n",
       "     'headshot': 'https://a.espncdn.com/i/headshots/nhl/players/full/3042020.png',\n",
       "     'jersey': '35',\n",
       "     'position': 'G',\n",
       "     'team': {'id': '16'}},\n",
       "    'status': {'id': '101',\n",
       "     'name': 'Expected',\n",
       "     'type': 'expected',\n",
       "     'abbreviation': 'Expected'},\n",
       "    'statistics': []}],\n",
       "  'statistics': [{'name': 'saves',\n",
       "    'abbreviation': 'SV',\n",
       "    'displayValue': '1340'},\n",
       "   {'name': 'savePct', 'abbreviation': 'SV%', 'displayValue': '.912'},\n",
       "   {'name': 'plusMinus', 'abbreviation': '+/-', 'displayValue': '0'},\n",
       "   {'name': 'goals', 'abbreviation': 'G', 'displayValue': '142'},\n",
       "   {'name': 'ytdGoals', 'abbreviation': 'YTDG', 'displayValue': '0'},\n",
       "   {'name': 'assists', 'abbreviation': 'A', 'displayValue': '243'},\n",
       "   {'name': 'points', 'abbreviation': 'PTS', 'displayValue': '385'}],\n",
       "  'records': [{'name': 'overall',\n",
       "    'abbreviation': 'TOTAL',\n",
       "    'type': 'total',\n",
       "    'summary': '22-15-7'},\n",
       "   {'name': 'Home', 'type': 'home', 'summary': '12-5-4'},\n",
       "   {'name': 'Road', 'type': 'road', 'summary': '10-10-3'}]},\n",
       " {'id': '14',\n",
       "  'uid': 's:70~l:90~t:14',\n",
       "  'type': 'team',\n",
       "  'order': 1,\n",
       "  'homeAway': 'away',\n",
       "  'team': {'id': '14',\n",
       "   'uid': 's:70~l:90~t:14',\n",
       "   'location': 'Ottawa',\n",
       "   'name': 'Senators',\n",
       "   'abbreviation': 'OTT',\n",
       "   'displayName': 'Ottawa Senators',\n",
       "   'shortDisplayName': 'Senators',\n",
       "   'color': 'd01b35',\n",
       "   'alternateColor': 'c89a1c',\n",
       "   'isActive': True,\n",
       "   'venue': {'id': '1832'},\n",
       "   'links': [{'rel': ['clubhouse', 'desktop', 'team'],\n",
       "     'href': 'http://www.espn.com/nhl/team/_/name/ott/ottawa-senators',\n",
       "     'text': 'Clubhouse',\n",
       "     'isExternal': False,\n",
       "     'isPremium': False},\n",
       "    {'rel': ['clubhouse', 'mobile', 'team'],\n",
       "     'href': 'http://m.espn.com/nhl/clubhouse?teamId=14',\n",
       "     'text': 'Clubhouse',\n",
       "     'isExternal': False,\n",
       "     'isPremium': False},\n",
       "    {'rel': ['roster', 'desktop', 'team'],\n",
       "     'href': 'http://www.espn.com/nhl/team/roster/_/name/ott/ottawa-senators',\n",
       "     'text': 'Roster',\n",
       "     'isExternal': False,\n",
       "     'isPremium': False},\n",
       "    {'rel': ['stats', 'desktop', 'team'],\n",
       "     'href': 'http://www.espn.com/nhl/team/stats/_/name/ott/ottawa-senators',\n",
       "     'text': 'Statistics',\n",
       "     'isExternal': False,\n",
       "     'isPremium': False},\n",
       "    {'rel': ['schedule', 'desktop', 'team'],\n",
       "     'href': 'https://www.espn.com/nhl/team/schedule/_/name/ott',\n",
       "     'text': 'Schedule',\n",
       "     'isExternal': False,\n",
       "     'isPremium': False},\n",
       "    {'rel': ['photos', 'desktop', 'team'],\n",
       "     'href': 'https://www.espn.com/nhl/team/photos/_/name/ott',\n",
       "     'text': 'photos',\n",
       "     'isExternal': False,\n",
       "     'isPremium': False},\n",
       "    {'rel': ['scores', 'sportscenter', 'app', 'team'],\n",
       "     'href': 'sportscenter://x-callback-url/showClubhouse?uid=s:70~l:90~t:14&section=scores',\n",
       "     'text': 'Scores',\n",
       "     'isExternal': False,\n",
       "     'isPremium': False},\n",
       "    {'rel': ['transactions', 'desktop', 'team'],\n",
       "     'href': 'http://www.espn.com/nhl/team/transactions/_/name/ott',\n",
       "     'text': 'Transactions',\n",
       "     'isExternal': False,\n",
       "     'isPremium': False},\n",
       "    {'rel': ['injuries', 'desktop', 'team'],\n",
       "     'href': 'http://www.espn.com/nhl/team/injuries/_/name/ott',\n",
       "     'text': 'Injuries',\n",
       "     'isExternal': False,\n",
       "     'isPremium': False}],\n",
       "   'logo': 'https://a.espncdn.com/i/teamlogos/nhl/500/scoreboard/ott.png'},\n",
       "  'score': '0',\n",
       "  'leaders': [{'name': 'goals',\n",
       "    'displayName': 'Goals',\n",
       "    'shortDisplayName': 'Goals',\n",
       "    'abbreviation': 'G',\n",
       "    'leaders': [{'displayValue': '20',\n",
       "      'value': 20.0,\n",
       "      'athlete': {'id': '4697384',\n",
       "       'fullName': 'Tim Stutzle',\n",
       "       'displayName': 'Tim Stutzle',\n",
       "       'shortName': 'T. Stutzle',\n",
       "       'links': [{'rel': ['playercard', 'desktop', 'athlete'],\n",
       "         'href': 'https://www.espn.com/nhl/player/_/id/4697384'},\n",
       "        {'rel': ['stats', 'desktop', 'athlete'],\n",
       "         'href': 'http://www.espn.com/nhl/player/stats/_/id/4697384/tim-stutzle'},\n",
       "        {'rel': ['splits', 'desktop', 'athlete'],\n",
       "         'href': 'http://www.espn.com/nhl/player/splits/_/id/4697384/tim-stutzle'},\n",
       "        {'rel': ['gamelog', 'desktop', 'athlete'],\n",
       "         'href': 'http://www.espn.com/nhl/player/gamelog/_/id/4697384/tim-stutzle'},\n",
       "        {'rel': ['news', 'desktop', 'athlete'],\n",
       "         'href': 'http://www.espn.com/nhl/player/news/_/id/4697384/tim-stutzle'},\n",
       "        {'rel': ['bio', 'desktop', 'athlete'],\n",
       "         'href': 'http://www.espn.com/nhl/player/bio/_/id/4697384/tim-stutzle'},\n",
       "        {'rel': ['overview', 'desktop', 'athlete'],\n",
       "         'href': 'http://www.espn.com/nhl/player/_/id/4697384/tim-stutzle'}],\n",
       "       'headshot': 'https://a.espncdn.com/i/headshots/nhl/players/full/4697384.png',\n",
       "       'jersey': '18',\n",
       "       'position': {'abbreviation': 'LW'},\n",
       "       'team': {'id': '14'},\n",
       "       'active': True},\n",
       "      'team': {'id': '14'}}]},\n",
       "   {'name': 'assists',\n",
       "    'displayName': 'Assists',\n",
       "    'shortDisplayName': 'Assists',\n",
       "    'abbreviation': 'A',\n",
       "    'leaders': [{'displayValue': '30',\n",
       "      'value': 30.0,\n",
       "      'athlete': {'id': '4319858',\n",
       "       'fullName': 'Brady Tkachuk',\n",
       "       'displayName': 'Brady Tkachuk',\n",
       "       'shortName': 'B. Tkachuk',\n",
       "       'links': [{'rel': ['playercard', 'desktop', 'athlete'],\n",
       "         'href': 'https://www.espn.com/nhl/player/_/id/4319858'},\n",
       "        {'rel': ['stats', 'desktop', 'athlete'],\n",
       "         'href': 'http://www.espn.com/nhl/player/stats/_/id/4319858/brady-tkachuk'},\n",
       "        {'rel': ['splits', 'desktop', 'athlete'],\n",
       "         'href': 'http://www.espn.com/nhl/player/splits/_/id/4319858/brady-tkachuk'},\n",
       "        {'rel': ['gamelog', 'desktop', 'athlete'],\n",
       "         'href': 'http://www.espn.com/nhl/player/gamelog/_/id/4319858/brady-tkachuk'},\n",
       "        {'rel': ['news', 'desktop', 'athlete'],\n",
       "         'href': 'http://www.espn.com/nhl/player/news/_/id/4319858/brady-tkachuk'},\n",
       "        {'rel': ['bio', 'desktop', 'athlete'],\n",
       "         'href': 'http://www.espn.com/nhl/player/bio/_/id/4319858/brady-tkachuk'},\n",
       "        {'rel': ['overview', 'desktop', 'athlete'],\n",
       "         'href': 'http://www.espn.com/nhl/player/_/id/4319858/brady-tkachuk'}],\n",
       "       'headshot': 'https://a.espncdn.com/i/headshots/nhl/players/full/4319858.png',\n",
       "       'jersey': '7',\n",
       "       'position': {'abbreviation': 'LW'},\n",
       "       'team': {'id': '14'},\n",
       "       'active': True},\n",
       "      'team': {'id': '14'}}]},\n",
       "   {'name': 'points',\n",
       "    'displayName': 'Points',\n",
       "    'shortDisplayName': 'Points',\n",
       "    'abbreviation': 'PTS',\n",
       "    'leaders': [{'displayValue': '46',\n",
       "      'value': 46.0,\n",
       "      'athlete': {'id': '4319858',\n",
       "       'fullName': 'Brady Tkachuk',\n",
       "       'displayName': 'Brady Tkachuk',\n",
       "       'shortName': 'B. Tkachuk',\n",
       "       'links': [{'rel': ['playercard', 'desktop', 'athlete'],\n",
       "         'href': 'https://www.espn.com/nhl/player/_/id/4319858'},\n",
       "        {'rel': ['stats', 'desktop', 'athlete'],\n",
       "         'href': 'http://www.espn.com/nhl/player/stats/_/id/4319858/brady-tkachuk'},\n",
       "        {'rel': ['splits', 'desktop', 'athlete'],\n",
       "         'href': 'http://www.espn.com/nhl/player/splits/_/id/4319858/brady-tkachuk'},\n",
       "        {'rel': ['gamelog', 'desktop', 'athlete'],\n",
       "         'href': 'http://www.espn.com/nhl/player/gamelog/_/id/4319858/brady-tkachuk'},\n",
       "        {'rel': ['news', 'desktop', 'athlete'],\n",
       "         'href': 'http://www.espn.com/nhl/player/news/_/id/4319858/brady-tkachuk'},\n",
       "        {'rel': ['bio', 'desktop', 'athlete'],\n",
       "         'href': 'http://www.espn.com/nhl/player/bio/_/id/4319858/brady-tkachuk'},\n",
       "        {'rel': ['overview', 'desktop', 'athlete'],\n",
       "         'href': 'http://www.espn.com/nhl/player/_/id/4319858/brady-tkachuk'}],\n",
       "       'headshot': 'https://a.espncdn.com/i/headshots/nhl/players/full/4319858.png',\n",
       "       'jersey': '7',\n",
       "       'position': {'abbreviation': 'LW'},\n",
       "       'team': {'id': '14'},\n",
       "       'active': True},\n",
       "      'team': {'id': '14'},\n",
       "      'statistics': [{'name': 'saves',\n",
       "        'displayName': 'Saves',\n",
       "        'shortDisplayName': 'Saves',\n",
       "        'description': 'Total saves.',\n",
       "        'abbreviation': 'SV',\n",
       "        'value': 0.0,\n",
       "        'displayValue': '0'},\n",
       "       {'name': 'savePct',\n",
       "        'displayName': 'Save Percentage',\n",
       "        'shortDisplayName': 'Save Percentage',\n",
       "        'description': 'Percentage of shots saved.',\n",
       "        'abbreviation': 'SV%',\n",
       "        'value': 0.0,\n",
       "        'displayValue': '.000'},\n",
       "       {'name': 'plusMinus',\n",
       "        'displayName': 'Plus/Minus Rating',\n",
       "        'shortDisplayName': 'Plus/Minus',\n",
       "        'description': 'Plus/Minus Rating',\n",
       "        'abbreviation': '+/-',\n",
       "        'value': -11.0,\n",
       "        'displayValue': '-11'},\n",
       "       {'name': 'goals',\n",
       "        'displayName': 'Goals',\n",
       "        'shortDisplayName': 'Goals',\n",
       "        'description': 'Total goals scored.',\n",
       "        'abbreviation': 'G',\n",
       "        'value': 16.0,\n",
       "        'displayValue': '16'},\n",
       "       {'name': 'assists',\n",
       "        'displayName': 'Assists',\n",
       "        'shortDisplayName': 'Assists',\n",
       "        'description': 'Total goal assists.',\n",
       "        'abbreviation': 'A',\n",
       "        'value': 30.0,\n",
       "        'displayValue': '30'},\n",
       "       {'name': 'points',\n",
       "        'displayName': 'Points',\n",
       "        'shortDisplayName': 'Points',\n",
       "        'description': 'Points',\n",
       "        'abbreviation': 'PTS',\n",
       "        'value': 46.0,\n",
       "        'displayValue': '46'}]}]}],\n",
       "  'probables': [{'name': 'probableStartingGoalie',\n",
       "    'displayName': 'Probable Starting Goalie',\n",
       "    'shortDisplayName': 'Starter',\n",
       "    'abbreviation': 'SG',\n",
       "    'playerId': 3036851,\n",
       "    'athlete': {'id': '3036851',\n",
       "     'fullName': 'Anton Forsberg',\n",
       "     'displayName': 'Anton Forsberg',\n",
       "     'shortName': 'A. Forsberg',\n",
       "     'links': [{'rel': ['playercard', 'desktop', 'athlete'],\n",
       "       'href': 'https://www.espn.com/nhl/player/_/id/3036851'},\n",
       "      {'rel': ['stats', 'desktop', 'athlete'],\n",
       "       'href': 'http://www.espn.com/nhl/player/stats/_/id/3036851/anton-forsberg'},\n",
       "      {'rel': ['splits', 'desktop', 'athlete'],\n",
       "       'href': 'http://www.espn.com/nhl/player/splits/_/id/3036851/anton-forsberg'},\n",
       "      {'rel': ['gamelog', 'desktop', 'athlete'],\n",
       "       'href': 'http://www.espn.com/nhl/player/gamelog/_/id/3036851/anton-forsberg'},\n",
       "      {'rel': ['news', 'desktop', 'athlete'],\n",
       "       'href': 'http://www.espn.com/nhl/player/news/_/id/3036851/anton-forsberg'},\n",
       "      {'rel': ['bio', 'desktop', 'athlete'],\n",
       "       'href': 'http://www.espn.com/nhl/player/bio/_/id/3036851/anton-forsberg'},\n",
       "      {'rel': ['overview', 'desktop', 'athlete'],\n",
       "       'href': 'http://www.espn.com/nhl/player/_/id/3036851/anton-forsberg'}],\n",
       "     'headshot': 'https://a.espncdn.com/i/headshots/nhl/players/full/3036851.png',\n",
       "     'jersey': '31',\n",
       "     'position': 'G',\n",
       "     'team': {'id': '14'}},\n",
       "    'status': {'id': '101',\n",
       "     'name': 'Expected',\n",
       "     'type': 'expected',\n",
       "     'abbreviation': 'Expected'},\n",
       "    'statistics': []}],\n",
       "  'statistics': [{'name': 'saves',\n",
       "    'abbreviation': 'SV',\n",
       "    'displayValue': '1243'},\n",
       "   {'name': 'savePct', 'abbreviation': 'SV%', 'displayValue': '.903'},\n",
       "   {'name': 'plusMinus', 'abbreviation': '+/-', 'displayValue': '0'},\n",
       "   {'name': 'goals', 'abbreviation': 'G', 'displayValue': '130'},\n",
       "   {'name': 'ytdGoals', 'abbreviation': 'YTDG', 'displayValue': '0'},\n",
       "   {'name': 'assists', 'abbreviation': 'A', 'displayValue': '210'},\n",
       "   {'name': 'points', 'abbreviation': 'PTS', 'displayValue': '340'}],\n",
       "  'records': [{'name': 'overall',\n",
       "    'abbreviation': 'TOTAL',\n",
       "    'type': 'total',\n",
       "    'summary': '20-21-3'},\n",
       "   {'name': 'Home', 'type': 'home', 'summary': '12-10-1'},\n",
       "   {'name': 'Road', 'type': 'road', 'summary': '8-11-2'}]}]"
      ]
     },
     "execution_count": 90,
     "metadata": {},
     "output_type": "execute_result"
    }
   ],
   "source": [
    "competitionKey['competitors']"
   ]
  },
  {
   "cell_type": "code",
   "execution_count": 94,
   "id": "9b4c3557",
   "metadata": {},
   "outputs": [
    {
     "data": {
      "text/plain": [
       "'0'"
      ]
     },
     "execution_count": 94,
     "metadata": {},
     "output_type": "execute_result"
    }
   ],
   "source": [
    "response.json()['events'][0]['competitions'][0]['competitors'][0]['score']"
   ]
  },
  {
   "cell_type": "code",
   "execution_count": null,
   "id": "6289cc39",
   "metadata": {},
   "outputs": [],
   "source": []
  }
 ],
 "metadata": {
  "kernelspec": {
   "display_name": "Python 3 (ipykernel)",
   "language": "python",
   "name": "python3"
  },
  "language_info": {
   "codemirror_mode": {
    "name": "ipython",
    "version": 3
   },
   "file_extension": ".py",
   "mimetype": "text/x-python",
   "name": "python",
   "nbconvert_exporter": "python",
   "pygments_lexer": "ipython3",
   "version": "3.8.9"
  }
 },
 "nbformat": 4,
 "nbformat_minor": 5
}
