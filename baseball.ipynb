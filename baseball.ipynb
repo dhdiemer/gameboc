{
 "cells": [
  {
   "cell_type": "code",
   "execution_count": 1,
   "id": "3d165648",
   "metadata": {},
   "outputs": [],
   "source": [
    "import requests\n",
    "import json\n"
   ]
  },
  {
   "cell_type": "code",
   "execution_count": 2,
   "id": "54068b7f",
   "metadata": {},
   "outputs": [],
   "source": [
    "espn_url = \"http://site.api.espn.com/apis/site/v2/sports/baseball/mlb/scoreboard\"\n"
   ]
  },
  {
   "cell_type": "code",
   "execution_count": 3,
   "id": "fc2a3138",
   "metadata": {},
   "outputs": [],
   "source": [
    "response = requests.get(espn_url,timeout=5)\n"
   ]
  },
  {
   "cell_type": "code",
   "execution_count": 6,
   "id": "688128f3",
   "metadata": {},
   "outputs": [
    {
     "data": {
      "text/plain": [
       "{'leagues': [{'id': '10',\n",
       "   'uid': 's:1~l:10',\n",
       "   'name': 'Major League Baseball',\n",
       "   'abbreviation': 'MLB',\n",
       "   'midsizeName': 'MLB',\n",
       "   'slug': 'mlb',\n",
       "   'season': {'year': 2022,\n",
       "    'startDate': '2022-01-27T08:00Z',\n",
       "    'endDate': '2022-11-15T07:59Z',\n",
       "    'type': {'id': '4',\n",
       "     'type': 4,\n",
       "     'name': 'Off Season',\n",
       "     'abbreviation': 'off'}},\n",
       "   'logos': [{'href': 'https://a.espncdn.com/i/teamlogos/leagues/500/mlb.png',\n",
       "     'width': 500,\n",
       "     'height': 500,\n",
       "     'alt': '',\n",
       "     'rel': ['full', 'default'],\n",
       "     'lastUpdated': '2018-06-05T12:07Z'}],\n",
       "   'calendarType': 'day',\n",
       "   'calendarIsWhitelist': False,\n",
       "   'calendarStartDate': '2023-02-24T08:00Z',\n",
       "   'calendarEndDate': '2023-12-11T07:59Z',\n",
       "   'calendar': ['2023-03-29T07:00Z',\n",
       "    '2023-07-10T07:00Z',\n",
       "    '2023-07-12T07:00Z',\n",
       "    '2023-07-13T07:00Z',\n",
       "    '2023-10-02T07:00Z',\n",
       "    '2023-10-03T07:00Z',\n",
       "    '2023-10-04T07:00Z',\n",
       "    '2023-10-05T07:00Z',\n",
       "    '2023-10-06T07:00Z',\n",
       "    '2023-10-07T07:00Z',\n",
       "    '2023-10-08T07:00Z',\n",
       "    '2023-10-09T07:00Z',\n",
       "    '2023-10-10T07:00Z',\n",
       "    '2023-10-11T07:00Z',\n",
       "    '2023-10-12T07:00Z',\n",
       "    '2023-10-13T07:00Z',\n",
       "    '2023-10-14T07:00Z',\n",
       "    '2023-10-15T07:00Z',\n",
       "    '2023-10-16T07:00Z',\n",
       "    '2023-10-17T07:00Z',\n",
       "    '2023-10-18T07:00Z',\n",
       "    '2023-10-19T07:00Z',\n",
       "    '2023-10-20T07:00Z',\n",
       "    '2023-10-21T07:00Z',\n",
       "    '2023-10-22T07:00Z',\n",
       "    '2023-10-23T07:00Z',\n",
       "    '2023-10-24T07:00Z',\n",
       "    '2023-10-25T07:00Z',\n",
       "    '2023-10-26T07:00Z',\n",
       "    '2023-10-27T07:00Z',\n",
       "    '2023-10-28T07:00Z',\n",
       "    '2023-10-29T07:00Z',\n",
       "    '2023-10-30T07:00Z',\n",
       "    '2023-10-31T07:00Z',\n",
       "    '2023-11-01T07:00Z',\n",
       "    '2023-11-02T07:00Z',\n",
       "    '2023-11-03T07:00Z',\n",
       "    '2023-11-04T07:00Z',\n",
       "    '2023-11-05T07:00Z',\n",
       "    '2023-11-06T08:00Z',\n",
       "    '2023-11-07T08:00Z',\n",
       "    '2023-11-08T08:00Z',\n",
       "    '2023-11-09T08:00Z',\n",
       "    '2023-11-10T08:00Z',\n",
       "    '2023-11-11T08:00Z',\n",
       "    '2023-11-12T08:00Z',\n",
       "    '2023-11-13T08:00Z',\n",
       "    '2023-11-14T08:00Z',\n",
       "    '2023-11-15T08:00Z',\n",
       "    '2023-11-16T08:00Z',\n",
       "    '2023-11-17T08:00Z',\n",
       "    '2023-11-18T08:00Z',\n",
       "    '2023-11-19T08:00Z',\n",
       "    '2023-11-20T08:00Z',\n",
       "    '2023-11-21T08:00Z',\n",
       "    '2023-11-22T08:00Z',\n",
       "    '2023-11-23T08:00Z',\n",
       "    '2023-11-24T08:00Z',\n",
       "    '2023-11-25T08:00Z',\n",
       "    '2023-11-26T08:00Z',\n",
       "    '2023-11-27T08:00Z',\n",
       "    '2023-11-28T08:00Z',\n",
       "    '2023-11-29T08:00Z',\n",
       "    '2023-11-30T08:00Z',\n",
       "    '2023-12-01T08:00Z',\n",
       "    '2023-12-02T08:00Z',\n",
       "    '2023-12-03T08:00Z',\n",
       "    '2023-12-04T08:00Z',\n",
       "    '2023-12-05T08:00Z',\n",
       "    '2023-12-06T08:00Z',\n",
       "    '2023-12-07T08:00Z',\n",
       "    '2023-12-08T08:00Z',\n",
       "    '2023-12-09T08:00Z',\n",
       "    '2023-12-10T08:00Z']}],\n",
       " 'season': {'type': 1, 'year': 2023},\n",
       " 'day': {'date': '2023-02-24'},\n",
       " 'events': [{'id': '401481016',\n",
       "   'uid': 's:1~l:10~e:401481016',\n",
       "   'date': '2023-02-24T20:05Z',\n",
       "   'name': 'Texas Rangers at Kansas City Royals',\n",
       "   'shortName': 'TEX @ KC',\n",
       "   'season': {'year': 2023, 'type': 1, 'slug': 'preseason'},\n",
       "   'competitions': [{'id': '401481016',\n",
       "     'uid': 's:1~l:10~e:401481016~c:401481016',\n",
       "     'date': '2023-02-24T20:05Z',\n",
       "     'attendance': 0,\n",
       "     'type': {'id': '18', 'abbreviation': 'EXH'},\n",
       "     'timeValid': True,\n",
       "     'neutralSite': False,\n",
       "     'conferenceCompetition': False,\n",
       "     'recent': False,\n",
       "     'wasSuspended': False,\n",
       "     'venue': {'id': '173',\n",
       "      'fullName': 'Surprise Stadium',\n",
       "      'address': {'city': 'Surprise', 'state': 'Arizona'},\n",
       "      'capacity': 0,\n",
       "      'indoor': False},\n",
       "     'competitors': [{'id': '7',\n",
       "       'uid': 's:1~l:10~t:7',\n",
       "       'type': 'team',\n",
       "       'order': 0,\n",
       "       'homeAway': 'home',\n",
       "       'team': {'id': '7',\n",
       "        'uid': 's:1~l:10~t:7',\n",
       "        'location': 'Kansas City',\n",
       "        'name': 'Royals',\n",
       "        'abbreviation': 'KC',\n",
       "        'displayName': 'Kansas City Royals',\n",
       "        'shortDisplayName': 'Royals',\n",
       "        'color': '003b72',\n",
       "        'alternateColor': '7ab2dd',\n",
       "        'isActive': True,\n",
       "        'links': [{'rel': ['clubhouse', 'desktop', 'team'],\n",
       "          'href': 'https://www.espn.com/mlb/team/_/name/kc/kansas-city-royals',\n",
       "          'text': 'Clubhouse',\n",
       "          'isExternal': False,\n",
       "          'isPremium': False},\n",
       "         {'rel': ['roster', 'desktop', 'team'],\n",
       "          'href': 'http://www.espn.com/mlb/team/roster/_/name/kc/kansas-city-royals',\n",
       "          'text': 'Roster',\n",
       "          'isExternal': False,\n",
       "          'isPremium': False},\n",
       "         {'rel': ['stats', 'desktop', 'team'],\n",
       "          'href': 'http://www.espn.com/mlb/team/stats/_/name/kc/kansas-city-royals',\n",
       "          'text': 'Statistics',\n",
       "          'isExternal': False,\n",
       "          'isPremium': False},\n",
       "         {'rel': ['schedule', 'desktop', 'team'],\n",
       "          'href': 'https://www.espn.com/mlb/team/schedule/_/name/kc',\n",
       "          'text': 'Schedule',\n",
       "          'isExternal': False,\n",
       "          'isPremium': False},\n",
       "         {'rel': ['photos', 'desktop', 'team'],\n",
       "          'href': 'https://www.espn.com/mlb/team/photos/_/name/kc',\n",
       "          'text': 'photos',\n",
       "          'isExternal': False,\n",
       "          'isPremium': False},\n",
       "         {'rel': ['scores', 'sportscenter', 'app', 'team'],\n",
       "          'href': 'sportscenter://x-callback-url/showClubhouse?uid=s:1~l:10~t:7&section=scores',\n",
       "          'text': 'Scores',\n",
       "          'isExternal': False,\n",
       "          'isPremium': False},\n",
       "         {'rel': ['transactions', 'desktop', 'team'],\n",
       "          'href': 'https://www.espn.com/mlb/team/transactions/_/name/kc',\n",
       "          'text': 'Transactions',\n",
       "          'isExternal': False,\n",
       "          'isPremium': False},\n",
       "         {'rel': ['injuries', 'desktop', 'team'],\n",
       "          'href': 'https://www.espn.com/mlb/team/injuries/_/name/kc',\n",
       "          'text': 'Injuries',\n",
       "          'isExternal': False,\n",
       "          'isPremium': False},\n",
       "         {'rel': ['depthchart', 'desktop', 'team'],\n",
       "          'href': 'https://www.espn.com/mlb/team/depth/_/name/kc',\n",
       "          'text': 'Depth Chart',\n",
       "          'isExternal': False,\n",
       "          'isPremium': False}],\n",
       "        'logo': 'https://a.espncdn.com/i/teamlogos/mlb/500/scoreboard/kc.png'},\n",
       "       'score': '0',\n",
       "       'statistics': [],\n",
       "       'hits': 0,\n",
       "       'errors': 0},\n",
       "      {'id': '13',\n",
       "       'uid': 's:1~l:10~t:13',\n",
       "       'type': 'team',\n",
       "       'order': 1,\n",
       "       'homeAway': 'away',\n",
       "       'team': {'id': '13',\n",
       "        'uid': 's:1~l:10~t:13',\n",
       "        'location': 'Texas',\n",
       "        'name': 'Rangers',\n",
       "        'abbreviation': 'TEX',\n",
       "        'displayName': 'Texas Rangers',\n",
       "        'shortDisplayName': 'Rangers',\n",
       "        'color': '003879',\n",
       "        'alternateColor': 'c0111f',\n",
       "        'isActive': True,\n",
       "        'links': [{'rel': ['clubhouse', 'desktop', 'team'],\n",
       "          'href': 'https://www.espn.com/mlb/team/_/name/tex/texas-rangers',\n",
       "          'text': 'Clubhouse',\n",
       "          'isExternal': False,\n",
       "          'isPremium': False},\n",
       "         {'rel': ['roster', 'desktop', 'team'],\n",
       "          'href': 'http://www.espn.com/mlb/team/roster/_/name/tex/texas-rangers',\n",
       "          'text': 'Roster',\n",
       "          'isExternal': False,\n",
       "          'isPremium': False},\n",
       "         {'rel': ['stats', 'desktop', 'team'],\n",
       "          'href': 'http://www.espn.com/mlb/team/stats/_/name/tex/texas-rangers',\n",
       "          'text': 'Statistics',\n",
       "          'isExternal': False,\n",
       "          'isPremium': False},\n",
       "         {'rel': ['schedule', 'desktop', 'team'],\n",
       "          'href': 'https://www.espn.com/mlb/team/schedule/_/name/tex',\n",
       "          'text': 'Schedule',\n",
       "          'isExternal': False,\n",
       "          'isPremium': False},\n",
       "         {'rel': ['photos', 'desktop', 'team'],\n",
       "          'href': 'https://www.espn.com/mlb/team/photos/_/name/tex',\n",
       "          'text': 'photos',\n",
       "          'isExternal': False,\n",
       "          'isPremium': False},\n",
       "         {'rel': ['scores', 'sportscenter', 'app', 'team'],\n",
       "          'href': 'sportscenter://x-callback-url/showClubhouse?uid=s:1~l:10~t:13&section=scores',\n",
       "          'text': 'Scores',\n",
       "          'isExternal': False,\n",
       "          'isPremium': False},\n",
       "         {'rel': ['transactions', 'desktop', 'team'],\n",
       "          'href': 'https://www.espn.com/mlb/team/transactions/_/name/tex',\n",
       "          'text': 'Transactions',\n",
       "          'isExternal': False,\n",
       "          'isPremium': False},\n",
       "         {'rel': ['injuries', 'desktop', 'team'],\n",
       "          'href': 'https://www.espn.com/mlb/team/injuries/_/name/tex',\n",
       "          'text': 'Injuries',\n",
       "          'isExternal': False,\n",
       "          'isPremium': False},\n",
       "         {'rel': ['depthchart', 'desktop', 'team'],\n",
       "          'href': 'https://www.espn.com/mlb/team/depth/_/name/tex',\n",
       "          'text': 'Depth Chart',\n",
       "          'isExternal': False,\n",
       "          'isPremium': False}],\n",
       "        'logo': 'https://a.espncdn.com/i/teamlogos/mlb/500/scoreboard/tex.png'},\n",
       "       'score': '0',\n",
       "       'statistics': [],\n",
       "       'hits': 0,\n",
       "       'errors': 0}],\n",
       "     'notes': [],\n",
       "     'status': {'clock': 0.0,\n",
       "      'displayClock': '0:00',\n",
       "      'period': 1,\n",
       "      'type': {'id': '1',\n",
       "       'name': 'STATUS_SCHEDULED',\n",
       "       'state': 'pre',\n",
       "       'completed': False,\n",
       "       'description': 'Scheduled',\n",
       "       'detail': 'Fri, February 24th at 3:05 PM EST',\n",
       "       'shortDetail': '2/24 - 3:05 PM EST'}},\n",
       "     'broadcasts': [],\n",
       "     'format': {'regulation': {'periods': 9}},\n",
       "     'tickets': [{'summary': 'Tickets as low as $9',\n",
       "       'numberAvailable': 1334,\n",
       "       'links': [{'href': 'https://www.vividseats.com/kansas-city-royals-tickets-surprise-stadium-2-24-2023--sports-mlb-baseball/production/4089815?wsUser=717'},\n",
       "        {'href': 'https://www.vividseats.com/surprise-stadium-tickets/venue/2738?wsUser=717'}]}],\n",
       "     'startDate': '2023-02-24T20:05Z',\n",
       "     'geoBroadcasts': []}],\n",
       "   'links': [{'language': 'en-US',\n",
       "     'rel': ['summary', 'desktop', 'event'],\n",
       "     'href': 'https://www.espn.com/mlb/game/_/gameId/401481016',\n",
       "     'text': 'Gamecast',\n",
       "     'shortText': 'Gamecast',\n",
       "     'isExternal': False,\n",
       "     'isPremium': False}],\n",
       "   'status': {'clock': 0.0,\n",
       "    'displayClock': '0:00',\n",
       "    'period': 1,\n",
       "    'type': {'id': '1',\n",
       "     'name': 'STATUS_SCHEDULED',\n",
       "     'state': 'pre',\n",
       "     'completed': False,\n",
       "     'description': 'Scheduled',\n",
       "     'detail': 'Fri, February 24th at 3:05 PM EST',\n",
       "     'shortDetail': '2/24 - 3:05 PM EST'}}},\n",
       "  {'id': '401480558',\n",
       "   'uid': 's:1~l:10~e:401480558',\n",
       "   'date': '2023-02-24T20:10Z',\n",
       "   'name': 'Seattle Mariners at San Diego Padres',\n",
       "   'shortName': 'SEA @ SD',\n",
       "   'season': {'year': 2023, 'type': 1, 'slug': 'preseason'},\n",
       "   'competitions': [{'id': '401480558',\n",
       "     'uid': 's:1~l:10~e:401480558~c:401480558',\n",
       "     'date': '2023-02-24T20:10Z',\n",
       "     'attendance': 0,\n",
       "     'type': {'id': '18', 'abbreviation': 'EXH'},\n",
       "     'timeValid': True,\n",
       "     'neutralSite': False,\n",
       "     'conferenceCompetition': False,\n",
       "     'recent': False,\n",
       "     'wasSuspended': False,\n",
       "     'venue': {'id': '58',\n",
       "      'fullName': 'Peoria Stadium',\n",
       "      'address': {'city': 'Peoria', 'state': 'Arizona'},\n",
       "      'capacity': 0,\n",
       "      'indoor': True},\n",
       "     'competitors': [{'id': '25',\n",
       "       'uid': 's:1~l:10~t:25',\n",
       "       'type': 'team',\n",
       "       'order': 0,\n",
       "       'homeAway': 'home',\n",
       "       'team': {'id': '25',\n",
       "        'uid': 's:1~l:10~t:25',\n",
       "        'location': 'San Diego',\n",
       "        'name': 'Padres',\n",
       "        'abbreviation': 'SD',\n",
       "        'displayName': 'San Diego Padres',\n",
       "        'shortDisplayName': 'Padres',\n",
       "        'color': '2f241d',\n",
       "        'alternateColor': 'ffc425',\n",
       "        'isActive': True,\n",
       "        'links': [{'rel': ['clubhouse', 'desktop', 'team'],\n",
       "          'href': 'https://www.espn.com/mlb/team/_/name/sd/san-diego-padres',\n",
       "          'text': 'Clubhouse',\n",
       "          'isExternal': False,\n",
       "          'isPremium': False},\n",
       "         {'rel': ['roster', 'desktop', 'team'],\n",
       "          'href': 'http://www.espn.com/mlb/team/roster/_/name/sd/san-diego-padres',\n",
       "          'text': 'Roster',\n",
       "          'isExternal': False,\n",
       "          'isPremium': False},\n",
       "         {'rel': ['stats', 'desktop', 'team'],\n",
       "          'href': 'http://www.espn.com/mlb/team/stats/_/name/sd/san-diego-padres',\n",
       "          'text': 'Statistics',\n",
       "          'isExternal': False,\n",
       "          'isPremium': False},\n",
       "         {'rel': ['schedule', 'desktop', 'team'],\n",
       "          'href': 'https://www.espn.com/mlb/team/schedule/_/name/sd',\n",
       "          'text': 'Schedule',\n",
       "          'isExternal': False,\n",
       "          'isPremium': False},\n",
       "         {'rel': ['photos', 'desktop', 'team'],\n",
       "          'href': 'https://www.espn.com/mlb/team/photos/_/name/sd',\n",
       "          'text': 'photos',\n",
       "          'isExternal': False,\n",
       "          'isPremium': False},\n",
       "         {'rel': ['scores', 'sportscenter', 'app', 'team'],\n",
       "          'href': 'sportscenter://x-callback-url/showClubhouse?uid=s:1~l:10~t:25&section=scores',\n",
       "          'text': 'Scores',\n",
       "          'isExternal': False,\n",
       "          'isPremium': False},\n",
       "         {'rel': ['transactions', 'desktop', 'team'],\n",
       "          'href': 'https://www.espn.com/mlb/team/transactions/_/name/sd',\n",
       "          'text': 'Transactions',\n",
       "          'isExternal': False,\n",
       "          'isPremium': False},\n",
       "         {'rel': ['injuries', 'desktop', 'team'],\n",
       "          'href': 'https://www.espn.com/mlb/team/injuries/_/name/sd',\n",
       "          'text': 'Injuries',\n",
       "          'isExternal': False,\n",
       "          'isPremium': False},\n",
       "         {'rel': ['depthchart', 'desktop', 'team'],\n",
       "          'href': 'https://www.espn.com/mlb/team/depth/_/name/sd',\n",
       "          'text': 'Depth Chart',\n",
       "          'isExternal': False,\n",
       "          'isPremium': False}],\n",
       "        'logo': 'https://a.espncdn.com/i/teamlogos/mlb/500/scoreboard/sd.png'},\n",
       "       'score': '0',\n",
       "       'statistics': [],\n",
       "       'hits': 0,\n",
       "       'errors': 0},\n",
       "      {'id': '12',\n",
       "       'uid': 's:1~l:10~t:12',\n",
       "       'type': 'team',\n",
       "       'order': 1,\n",
       "       'homeAway': 'away',\n",
       "       'team': {'id': '12',\n",
       "        'uid': 's:1~l:10~t:12',\n",
       "        'location': 'Seattle',\n",
       "        'name': 'Mariners',\n",
       "        'abbreviation': 'SEA',\n",
       "        'displayName': 'Seattle Mariners',\n",
       "        'shortDisplayName': 'Mariners',\n",
       "        'color': '012a5b',\n",
       "        'alternateColor': '0c2c56',\n",
       "        'isActive': True,\n",
       "        'links': [{'rel': ['clubhouse', 'desktop', 'team'],\n",
       "          'href': 'https://www.espn.com/mlb/team/_/name/sea/seattle-mariners',\n",
       "          'text': 'Clubhouse',\n",
       "          'isExternal': False,\n",
       "          'isPremium': False},\n",
       "         {'rel': ['roster', 'desktop', 'team'],\n",
       "          'href': 'http://www.espn.com/mlb/team/roster/_/name/sea/seattle-mariners',\n",
       "          'text': 'Roster',\n",
       "          'isExternal': False,\n",
       "          'isPremium': False},\n",
       "         {'rel': ['stats', 'desktop', 'team'],\n",
       "          'href': 'http://www.espn.com/mlb/team/stats/_/name/sea/seattle-mariners',\n",
       "          'text': 'Statistics',\n",
       "          'isExternal': False,\n",
       "          'isPremium': False},\n",
       "         {'rel': ['schedule', 'desktop', 'team'],\n",
       "          'href': 'https://www.espn.com/mlb/team/schedule/_/name/sea',\n",
       "          'text': 'Schedule',\n",
       "          'isExternal': False,\n",
       "          'isPremium': False},\n",
       "         {'rel': ['photos', 'desktop', 'team'],\n",
       "          'href': 'https://www.espn.com/mlb/team/photos/_/name/sea',\n",
       "          'text': 'photos',\n",
       "          'isExternal': False,\n",
       "          'isPremium': False},\n",
       "         {'rel': ['scores', 'sportscenter', 'app', 'team'],\n",
       "          'href': 'sportscenter://x-callback-url/showClubhouse?uid=s:1~l:10~t:12&section=scores',\n",
       "          'text': 'Scores',\n",
       "          'isExternal': False,\n",
       "          'isPremium': False},\n",
       "         {'rel': ['transactions', 'desktop', 'team'],\n",
       "          'href': 'https://www.espn.com/mlb/team/transactions/_/name/sea',\n",
       "          'text': 'Transactions',\n",
       "          'isExternal': False,\n",
       "          'isPremium': False},\n",
       "         {'rel': ['injuries', 'desktop', 'team'],\n",
       "          'href': 'https://www.espn.com/mlb/team/injuries/_/name/sea',\n",
       "          'text': 'Injuries',\n",
       "          'isExternal': False,\n",
       "          'isPremium': False},\n",
       "         {'rel': ['depthchart', 'desktop', 'team'],\n",
       "          'href': 'https://www.espn.com/mlb/team/depth/_/name/sea',\n",
       "          'text': 'Depth Chart',\n",
       "          'isExternal': False,\n",
       "          'isPremium': False}],\n",
       "        'logo': 'https://a.espncdn.com/i/teamlogos/mlb/500/scoreboard/sea.png'},\n",
       "       'score': '0',\n",
       "       'statistics': [],\n",
       "       'hits': 0,\n",
       "       'errors': 0}],\n",
       "     'notes': [],\n",
       "     'status': {'clock': 0.0,\n",
       "      'displayClock': '0:00',\n",
       "      'period': 1,\n",
       "      'type': {'id': '1',\n",
       "       'name': 'STATUS_SCHEDULED',\n",
       "       'state': 'pre',\n",
       "       'completed': False,\n",
       "       'description': 'Scheduled',\n",
       "       'detail': 'Fri, February 24th at 3:10 PM EST',\n",
       "       'shortDetail': '2/24 - 3:10 PM EST'}},\n",
       "     'broadcasts': [],\n",
       "     'format': {'regulation': {'periods': 9}},\n",
       "     'tickets': [{'summary': 'Tickets as low as $30',\n",
       "       'numberAvailable': 514,\n",
       "       'links': [{'href': 'https://www.vividseats.com/san-diego-padres-tickets-peoria-sports-complex-2-24-2023--sports-mlb-baseball/production/4089907?wsUser=717'},\n",
       "        {'href': 'https://www.vividseats.com/peoria-sports-complex-tickets/venue/1313?wsUser=717'}]}],\n",
       "     'startDate': '2023-02-24T20:10Z',\n",
       "     'geoBroadcasts': []}],\n",
       "   'links': [{'language': 'en-US',\n",
       "     'rel': ['summary', 'desktop', 'event'],\n",
       "     'href': 'https://www.espn.com/mlb/game/_/gameId/401480558',\n",
       "     'text': 'Gamecast',\n",
       "     'shortText': 'Gamecast',\n",
       "     'isExternal': False,\n",
       "     'isPremium': False}],\n",
       "   'status': {'clock': 0.0,\n",
       "    'displayClock': '0:00',\n",
       "    'period': 1,\n",
       "    'type': {'id': '1',\n",
       "     'name': 'STATUS_SCHEDULED',\n",
       "     'state': 'pre',\n",
       "     'completed': False,\n",
       "     'description': 'Scheduled',\n",
       "     'detail': 'Fri, February 24th at 3:10 PM EST',\n",
       "     'shortDetail': '2/24 - 3:10 PM EST'}}}]}"
      ]
     },
     "execution_count": 6,
     "metadata": {},
     "output_type": "execute_result"
    }
   ],
   "source": [
    "score_dict = response.json()\n",
    "score_dict"
   ]
  },
  {
   "cell_type": "code",
   "execution_count": 7,
   "id": "f77d7111",
   "metadata": {},
   "outputs": [
    {
     "data": {
      "text/plain": [
       "dict"
      ]
     },
     "execution_count": 7,
     "metadata": {},
     "output_type": "execute_result"
    }
   ],
   "source": [
    "type(score_dict['events'][0])"
   ]
  },
  {
   "cell_type": "code",
   "execution_count": 9,
   "id": "4e1a2703",
   "metadata": {},
   "outputs": [
    {
     "name": "stdout",
     "output_type": "stream",
     "text": [
      "Ranger Danger\n"
     ]
    }
   ],
   "source": [
    "all_games = score_dict['events']\n",
    "\n",
    "for i in range(len(all_games)):\n",
    "    if all_games[i]['id'] == \"401481016\":\n",
    "        print(\"Ranger Danger\")"
   ]
  },
  {
   "cell_type": "code",
   "execution_count": 10,
   "id": "d6e1201c",
   "metadata": {},
   "outputs": [
    {
     "data": {
      "text/plain": [
       "dict_keys(['id', 'uid', 'date', 'name', 'shortName', 'season', 'competitions', 'links', 'status'])"
      ]
     },
     "execution_count": 10,
     "metadata": {},
     "output_type": "execute_result"
    }
   ],
   "source": [
    "all_games[0].keys()"
   ]
  },
  {
   "attachments": {
    "image.png": {
     "image/png": "[encoded data removed]"
    }
   },
   "cell_type": "markdown",
   "id": "ab8aad85",
   "metadata": {},
   "source": [
    "![image.png](attachment:image.png)"
   ]
  },
  {
   "cell_type": "code",
   "execution_count": 11,
   "id": "369f2056",
   "metadata": {},
   "outputs": [
    {
     "data": {
      "text/plain": [
       "dict_keys(['year', 'type', 'slug'])"
      ]
     },
     "execution_count": 11,
     "metadata": {},
     "output_type": "execute_result"
    }
   ],
   "source": [
    "all_games[0][\"season\"].keys()"
   ]
  },
  {
   "cell_type": "code",
   "execution_count": 59,
   "id": "fc4a3153",
   "metadata": {},
   "outputs": [
    {
     "data": {
      "text/plain": [
       "\"\\ndict_keys([\\n'id'\\n 'uid'\\n 'date'\\n 'attendance'\\n 'type'\\n 'timeValid'\\n 'neutralSite'\\n 'conferenceCompetition'*\\n 'recent'(8)\\n 'wasSuspended'\\n 'venue'\\n 'competitors'(10)\\n 'notes'(11)\\n 'status'(12)\\n 'broadcasts'(13)\\n 'format'(14)\\n 'tickets'(15)\\n 'startDate'(16)\\n 'geoBroadcasts'])(17)\\n \""
      ]
     },
     "execution_count": 59,
     "metadata": {},
     "output_type": "execute_result"
    }
   ],
   "source": [
    "all_games[0][\"competitions\"][0].keys()\n",
    "#comapre to hockey\n",
    "\n",
    "\"\"\"\n",
    "dict_keys(['id'\n",
    " 'uid'\n",
    " 'date'\n",
    " 'attendance'\n",
    " 'type'\n",
    " 'timeValid'\n",
    " 'neutralSite'\n",
    " 'conferenceCompetition'*\n",
    " 'recent'(8)\n",
    " 'wasSuspended'\n",
    " 'venue'\n",
    " 'competitors'(10)\n",
    " 'notes'(11)\n",
    " 'status'(12)\n",
    " 'broadcasts'(13)\n",
    " 'format'(14)\n",
    " 'tickets'(15)\n",
    " 'startDate'(16)\n",
    " 'geoBroadcasts'])(17)\n",
    " \"\"\""
   ]
  },
  {
   "cell_type": "code",
   "execution_count": 16,
   "id": "6759bae2",
   "metadata": {},
   "outputs": [
    {
     "name": "stdout",
     "output_type": "stream",
     "text": [
      "2\n",
      "{'clock': 0.0, 'displayClock': '0:00', 'period': 1, 'type': {'id': '1', 'name': 'STATUS_SCHEDULED', 'state': 'pre', 'completed': False, 'description': 'Scheduled', 'detail': 'Fri, February 24th at 3:10 PM EST', 'shortDetail': '2/24 - 3:10 PM EST'}}\n"
     ]
    }
   ],
   "source": [
    "print(len(all_games))\n",
    "\n",
    "\n",
    "print(all_games[1][\"status\"])"
   ]
  },
  {
   "cell_type": "code",
   "execution_count": 18,
   "id": "c4de2d4f",
   "metadata": {},
   "outputs": [
    {
     "data": {
      "text/plain": [
       "[{'id': '401481016',\n",
       "  'uid': 's:1~l:10~e:401481016',\n",
       "  'date': '2023-02-24T20:05Z',\n",
       "  'name': 'Texas Rangers at Kansas City Royals',\n",
       "  'shortName': 'TEX @ KC',\n",
       "  'season': {'year': 2023, 'type': 1, 'slug': 'preseason'},\n",
       "  'competitions': [{'id': '401481016',\n",
       "    'uid': 's:1~l:10~e:401481016~c:401481016',\n",
       "    'date': '2023-02-24T20:05Z',\n",
       "    'attendance': 0,\n",
       "    'type': {'id': '18', 'abbreviation': 'EXH'},\n",
       "    'timeValid': True,\n",
       "    'neutralSite': False,\n",
       "    'conferenceCompetition': False,\n",
       "    'recent': False,\n",
       "    'wasSuspended': False,\n",
       "    'venue': {'id': '173',\n",
       "     'fullName': 'Surprise Stadium',\n",
       "     'address': {'city': 'Surprise', 'state': 'Arizona'},\n",
       "     'capacity': 0,\n",
       "     'indoor': False},\n",
       "    'competitors': [{'id': '7',\n",
       "      'uid': 's:1~l:10~t:7',\n",
       "      'type': 'team',\n",
       "      'order': 0,\n",
       "      'homeAway': 'home',\n",
       "      'team': {'id': '7',\n",
       "       'uid': 's:1~l:10~t:7',\n",
       "       'location': 'Kansas City',\n",
       "       'name': 'Royals',\n",
       "       'abbreviation': 'KC',\n",
       "       'displayName': 'Kansas City Royals',\n",
       "       'shortDisplayName': 'Royals',\n",
       "       'color': '003b72',\n",
       "       'alternateColor': '7ab2dd',\n",
       "       'isActive': True,\n",
       "       'links': [{'rel': ['clubhouse', 'desktop', 'team'],\n",
       "         'href': 'https://www.espn.com/mlb/team/_/name/kc/kansas-city-royals',\n",
       "         'text': 'Clubhouse',\n",
       "         'isExternal': False,\n",
       "         'isPremium': False},\n",
       "        {'rel': ['roster', 'desktop', 'team'],\n",
       "         'href': 'http://www.espn.com/mlb/team/roster/_/name/kc/kansas-city-royals',\n",
       "         'text': 'Roster',\n",
       "         'isExternal': False,\n",
       "         'isPremium': False},\n",
       "        {'rel': ['stats', 'desktop', 'team'],\n",
       "         'href': 'http://www.espn.com/mlb/team/stats/_/name/kc/kansas-city-royals',\n",
       "         'text': 'Statistics',\n",
       "         'isExternal': False,\n",
       "         'isPremium': False},\n",
       "        {'rel': ['schedule', 'desktop', 'team'],\n",
       "         'href': 'https://www.espn.com/mlb/team/schedule/_/name/kc',\n",
       "         'text': 'Schedule',\n",
       "         'isExternal': False,\n",
       "         'isPremium': False},\n",
       "        {'rel': ['photos', 'desktop', 'team'],\n",
       "         'href': 'https://www.espn.com/mlb/team/photos/_/name/kc',\n",
       "         'text': 'photos',\n",
       "         'isExternal': False,\n",
       "         'isPremium': False},\n",
       "        {'rel': ['scores', 'sportscenter', 'app', 'team'],\n",
       "         'href': 'sportscenter://x-callback-url/showClubhouse?uid=s:1~l:10~t:7&section=scores',\n",
       "         'text': 'Scores',\n",
       "         'isExternal': False,\n",
       "         'isPremium': False},\n",
       "        {'rel': ['transactions', 'desktop', 'team'],\n",
       "         'href': 'https://www.espn.com/mlb/team/transactions/_/name/kc',\n",
       "         'text': 'Transactions',\n",
       "         'isExternal': False,\n",
       "         'isPremium': False},\n",
       "        {'rel': ['injuries', 'desktop', 'team'],\n",
       "         'href': 'https://www.espn.com/mlb/team/injuries/_/name/kc',\n",
       "         'text': 'Injuries',\n",
       "         'isExternal': False,\n",
       "         'isPremium': False},\n",
       "        {'rel': ['depthchart', 'desktop', 'team'],\n",
       "         'href': 'https://www.espn.com/mlb/team/depth/_/name/kc',\n",
       "         'text': 'Depth Chart',\n",
       "         'isExternal': False,\n",
       "         'isPremium': False}],\n",
       "       'logo': 'https://a.espncdn.com/i/teamlogos/mlb/500/scoreboard/kc.png'},\n",
       "      'score': '0',\n",
       "      'statistics': [],\n",
       "      'hits': 0,\n",
       "      'errors': 0},\n",
       "     {'id': '13',\n",
       "      'uid': 's:1~l:10~t:13',\n",
       "      'type': 'team',\n",
       "      'order': 1,\n",
       "      'homeAway': 'away',\n",
       "      'team': {'id': '13',\n",
       "       'uid': 's:1~l:10~t:13',\n",
       "       'location': 'Texas',\n",
       "       'name': 'Rangers',\n",
       "       'abbreviation': 'TEX',\n",
       "       'displayName': 'Texas Rangers',\n",
       "       'shortDisplayName': 'Rangers',\n",
       "       'color': '003879',\n",
       "       'alternateColor': 'c0111f',\n",
       "       'isActive': True,\n",
       "       'links': [{'rel': ['clubhouse', 'desktop', 'team'],\n",
       "         'href': 'https://www.espn.com/mlb/team/_/name/tex/texas-rangers',\n",
       "         'text': 'Clubhouse',\n",
       "         'isExternal': False,\n",
       "         'isPremium': False},\n",
       "        {'rel': ['roster', 'desktop', 'team'],\n",
       "         'href': 'http://www.espn.com/mlb/team/roster/_/name/tex/texas-rangers',\n",
       "         'text': 'Roster',\n",
       "         'isExternal': False,\n",
       "         'isPremium': False},\n",
       "        {'rel': ['stats', 'desktop', 'team'],\n",
       "         'href': 'http://www.espn.com/mlb/team/stats/_/name/tex/texas-rangers',\n",
       "         'text': 'Statistics',\n",
       "         'isExternal': False,\n",
       "         'isPremium': False},\n",
       "        {'rel': ['schedule', 'desktop', 'team'],\n",
       "         'href': 'https://www.espn.com/mlb/team/schedule/_/name/tex',\n",
       "         'text': 'Schedule',\n",
       "         'isExternal': False,\n",
       "         'isPremium': False},\n",
       "        {'rel': ['photos', 'desktop', 'team'],\n",
       "         'href': 'https://www.espn.com/mlb/team/photos/_/name/tex',\n",
       "         'text': 'photos',\n",
       "         'isExternal': False,\n",
       "         'isPremium': False},\n",
       "        {'rel': ['scores', 'sportscenter', 'app', 'team'],\n",
       "         'href': 'sportscenter://x-callback-url/showClubhouse?uid=s:1~l:10~t:13&section=scores',\n",
       "         'text': 'Scores',\n",
       "         'isExternal': False,\n",
       "         'isPremium': False},\n",
       "        {'rel': ['transactions', 'desktop', 'team'],\n",
       "         'href': 'https://www.espn.com/mlb/team/transactions/_/name/tex',\n",
       "         'text': 'Transactions',\n",
       "         'isExternal': False,\n",
       "         'isPremium': False},\n",
       "        {'rel': ['injuries', 'desktop', 'team'],\n",
       "         'href': 'https://www.espn.com/mlb/team/injuries/_/name/tex',\n",
       "         'text': 'Injuries',\n",
       "         'isExternal': False,\n",
       "         'isPremium': False},\n",
       "        {'rel': ['depthchart', 'desktop', 'team'],\n",
       "         'href': 'https://www.espn.com/mlb/team/depth/_/name/tex',\n",
       "         'text': 'Depth Chart',\n",
       "         'isExternal': False,\n",
       "         'isPremium': False}],\n",
       "       'logo': 'https://a.espncdn.com/i/teamlogos/mlb/500/scoreboard/tex.png'},\n",
       "      'score': '0',\n",
       "      'statistics': [],\n",
       "      'hits': 0,\n",
       "      'errors': 0}],\n",
       "    'notes': [],\n",
       "    'status': {'clock': 0.0,\n",
       "     'displayClock': '0:00',\n",
       "     'period': 1,\n",
       "     'type': {'id': '1',\n",
       "      'name': 'STATUS_SCHEDULED',\n",
       "      'state': 'pre',\n",
       "      'completed': False,\n",
       "      'description': 'Scheduled',\n",
       "      'detail': 'Fri, February 24th at 3:05 PM EST',\n",
       "      'shortDetail': '2/24 - 3:05 PM EST'}},\n",
       "    'broadcasts': [],\n",
       "    'format': {'regulation': {'periods': 9}},\n",
       "    'tickets': [{'summary': 'Tickets as low as $9',\n",
       "      'numberAvailable': 1334,\n",
       "      'links': [{'href': 'https://www.vividseats.com/kansas-city-royals-tickets-surprise-stadium-2-24-2023--sports-mlb-baseball/production/4089815?wsUser=717'},\n",
       "       {'href': 'https://www.vividseats.com/surprise-stadium-tickets/venue/2738?wsUser=717'}]}],\n",
       "    'startDate': '2023-02-24T20:05Z',\n",
       "    'geoBroadcasts': []}],\n",
       "  'links': [{'language': 'en-US',\n",
       "    'rel': ['summary', 'desktop', 'event'],\n",
       "    'href': 'https://www.espn.com/mlb/game/_/gameId/401481016',\n",
       "    'text': 'Gamecast',\n",
       "    'shortText': 'Gamecast',\n",
       "    'isExternal': False,\n",
       "    'isPremium': False}],\n",
       "  'status': {'clock': 0.0,\n",
       "   'displayClock': '0:00',\n",
       "   'period': 1,\n",
       "   'type': {'id': '1',\n",
       "    'name': 'STATUS_SCHEDULED',\n",
       "    'state': 'pre',\n",
       "    'completed': False,\n",
       "    'description': 'Scheduled',\n",
       "    'detail': 'Fri, February 24th at 3:05 PM EST',\n",
       "    'shortDetail': '2/24 - 3:05 PM EST'}}},\n",
       " {'id': '401480558',\n",
       "  'uid': 's:1~l:10~e:401480558',\n",
       "  'date': '2023-02-24T20:10Z',\n",
       "  'name': 'Seattle Mariners at San Diego Padres',\n",
       "  'shortName': 'SEA @ SD',\n",
       "  'season': {'year': 2023, 'type': 1, 'slug': 'preseason'},\n",
       "  'competitions': [{'id': '401480558',\n",
       "    'uid': 's:1~l:10~e:401480558~c:401480558',\n",
       "    'date': '2023-02-24T20:10Z',\n",
       "    'attendance': 0,\n",
       "    'type': {'id': '18', 'abbreviation': 'EXH'},\n",
       "    'timeValid': True,\n",
       "    'neutralSite': False,\n",
       "    'conferenceCompetition': False,\n",
       "    'recent': False,\n",
       "    'wasSuspended': False,\n",
       "    'venue': {'id': '58',\n",
       "     'fullName': 'Peoria Stadium',\n",
       "     'address': {'city': 'Peoria', 'state': 'Arizona'},\n",
       "     'capacity': 0,\n",
       "     'indoor': True},\n",
       "    'competitors': [{'id': '25',\n",
       "      'uid': 's:1~l:10~t:25',\n",
       "      'type': 'team',\n",
       "      'order': 0,\n",
       "      'homeAway': 'home',\n",
       "      'team': {'id': '25',\n",
       "       'uid': 's:1~l:10~t:25',\n",
       "       'location': 'San Diego',\n",
       "       'name': 'Padres',\n",
       "       'abbreviation': 'SD',\n",
       "       'displayName': 'San Diego Padres',\n",
       "       'shortDisplayName': 'Padres',\n",
       "       'color': '2f241d',\n",
       "       'alternateColor': 'ffc425',\n",
       "       'isActive': True,\n",
       "       'links': [{'rel': ['clubhouse', 'desktop', 'team'],\n",
       "         'href': 'https://www.espn.com/mlb/team/_/name/sd/san-diego-padres',\n",
       "         'text': 'Clubhouse',\n",
       "         'isExternal': False,\n",
       "         'isPremium': False},\n",
       "        {'rel': ['roster', 'desktop', 'team'],\n",
       "         'href': 'http://www.espn.com/mlb/team/roster/_/name/sd/san-diego-padres',\n",
       "         'text': 'Roster',\n",
       "         'isExternal': False,\n",
       "         'isPremium': False},\n",
       "        {'rel': ['stats', 'desktop', 'team'],\n",
       "         'href': 'http://www.espn.com/mlb/team/stats/_/name/sd/san-diego-padres',\n",
       "         'text': 'Statistics',\n",
       "         'isExternal': False,\n",
       "         'isPremium': False},\n",
       "        {'rel': ['schedule', 'desktop', 'team'],\n",
       "         'href': 'https://www.espn.com/mlb/team/schedule/_/name/sd',\n",
       "         'text': 'Schedule',\n",
       "         'isExternal': False,\n",
       "         'isPremium': False},\n",
       "        {'rel': ['photos', 'desktop', 'team'],\n",
       "         'href': 'https://www.espn.com/mlb/team/photos/_/name/sd',\n",
       "         'text': 'photos',\n",
       "         'isExternal': False,\n",
       "         'isPremium': False},\n",
       "        {'rel': ['scores', 'sportscenter', 'app', 'team'],\n",
       "         'href': 'sportscenter://x-callback-url/showClubhouse?uid=s:1~l:10~t:25&section=scores',\n",
       "         'text': 'Scores',\n",
       "         'isExternal': False,\n",
       "         'isPremium': False},\n",
       "        {'rel': ['transactions', 'desktop', 'team'],\n",
       "         'href': 'https://www.espn.com/mlb/team/transactions/_/name/sd',\n",
       "         'text': 'Transactions',\n",
       "         'isExternal': False,\n",
       "         'isPremium': False},\n",
       "        {'rel': ['injuries', 'desktop', 'team'],\n",
       "         'href': 'https://www.espn.com/mlb/team/injuries/_/name/sd',\n",
       "         'text': 'Injuries',\n",
       "         'isExternal': False,\n",
       "         'isPremium': False},\n",
       "        {'rel': ['depthchart', 'desktop', 'team'],\n",
       "         'href': 'https://www.espn.com/mlb/team/depth/_/name/sd',\n",
       "         'text': 'Depth Chart',\n",
       "         'isExternal': False,\n",
       "         'isPremium': False}],\n",
       "       'logo': 'https://a.espncdn.com/i/teamlogos/mlb/500/scoreboard/sd.png'},\n",
       "      'score': '0',\n",
       "      'statistics': [],\n",
       "      'hits': 0,\n",
       "      'errors': 0},\n",
       "     {'id': '12',\n",
       "      'uid': 's:1~l:10~t:12',\n",
       "      'type': 'team',\n",
       "      'order': 1,\n",
       "      'homeAway': 'away',\n",
       "      'team': {'id': '12',\n",
       "       'uid': 's:1~l:10~t:12',\n",
       "       'location': 'Seattle',\n",
       "       'name': 'Mariners',\n",
       "       'abbreviation': 'SEA',\n",
       "       'displayName': 'Seattle Mariners',\n",
       "       'shortDisplayName': 'Mariners',\n",
       "       'color': '012a5b',\n",
       "       'alternateColor': '0c2c56',\n",
       "       'isActive': True,\n",
       "       'links': [{'rel': ['clubhouse', 'desktop', 'team'],\n",
       "         'href': 'https://www.espn.com/mlb/team/_/name/sea/seattle-mariners',\n",
       "         'text': 'Clubhouse',\n",
       "         'isExternal': False,\n",
       "         'isPremium': False},\n",
       "        {'rel': ['roster', 'desktop', 'team'],\n",
       "         'href': 'http://www.espn.com/mlb/team/roster/_/name/sea/seattle-mariners',\n",
       "         'text': 'Roster',\n",
       "         'isExternal': False,\n",
       "         'isPremium': False},\n",
       "        {'rel': ['stats', 'desktop', 'team'],\n",
       "         'href': 'http://www.espn.com/mlb/team/stats/_/name/sea/seattle-mariners',\n",
       "         'text': 'Statistics',\n",
       "         'isExternal': False,\n",
       "         'isPremium': False},\n",
       "        {'rel': ['schedule', 'desktop', 'team'],\n",
       "         'href': 'https://www.espn.com/mlb/team/schedule/_/name/sea',\n",
       "         'text': 'Schedule',\n",
       "         'isExternal': False,\n",
       "         'isPremium': False},\n",
       "        {'rel': ['photos', 'desktop', 'team'],\n",
       "         'href': 'https://www.espn.com/mlb/team/photos/_/name/sea',\n",
       "         'text': 'photos',\n",
       "         'isExternal': False,\n",
       "         'isPremium': False},\n",
       "        {'rel': ['scores', 'sportscenter', 'app', 'team'],\n",
       "         'href': 'sportscenter://x-callback-url/showClubhouse?uid=s:1~l:10~t:12&section=scores',\n",
       "         'text': 'Scores',\n",
       "         'isExternal': False,\n",
       "         'isPremium': False},\n",
       "        {'rel': ['transactions', 'desktop', 'team'],\n",
       "         'href': 'https://www.espn.com/mlb/team/transactions/_/name/sea',\n",
       "         'text': 'Transactions',\n",
       "         'isExternal': False,\n",
       "         'isPremium': False},\n",
       "        {'rel': ['injuries', 'desktop', 'team'],\n",
       "         'href': 'https://www.espn.com/mlb/team/injuries/_/name/sea',\n",
       "         'text': 'Injuries',\n",
       "         'isExternal': False,\n",
       "         'isPremium': False},\n",
       "        {'rel': ['depthchart', 'desktop', 'team'],\n",
       "         'href': 'https://www.espn.com/mlb/team/depth/_/name/sea',\n",
       "         'text': 'Depth Chart',\n",
       "         'isExternal': False,\n",
       "         'isPremium': False}],\n",
       "       'logo': 'https://a.espncdn.com/i/teamlogos/mlb/500/scoreboard/sea.png'},\n",
       "      'score': '0',\n",
       "      'statistics': [],\n",
       "      'hits': 0,\n",
       "      'errors': 0}],\n",
       "    'notes': [],\n",
       "    'status': {'clock': 0.0,\n",
       "     'displayClock': '0:00',\n",
       "     'period': 1,\n",
       "     'type': {'id': '1',\n",
       "      'name': 'STATUS_SCHEDULED',\n",
       "      'state': 'pre',\n",
       "      'completed': False,\n",
       "      'description': 'Scheduled',\n",
       "      'detail': 'Fri, February 24th at 3:10 PM EST',\n",
       "      'shortDetail': '2/24 - 3:10 PM EST'}},\n",
       "    'broadcasts': [],\n",
       "    'format': {'regulation': {'periods': 9}},\n",
       "    'tickets': [{'summary': 'Tickets as low as $30',\n",
       "      'numberAvailable': 514,\n",
       "      'links': [{'href': 'https://www.vividseats.com/san-diego-padres-tickets-peoria-sports-complex-2-24-2023--sports-mlb-baseball/production/4089907?wsUser=717'},\n",
       "       {'href': 'https://www.vividseats.com/peoria-sports-complex-tickets/venue/1313?wsUser=717'}]}],\n",
       "    'startDate': '2023-02-24T20:10Z',\n",
       "    'geoBroadcasts': []}],\n",
       "  'links': [{'language': 'en-US',\n",
       "    'rel': ['summary', 'desktop', 'event'],\n",
       "    'href': 'https://www.espn.com/mlb/game/_/gameId/401480558',\n",
       "    'text': 'Gamecast',\n",
       "    'shortText': 'Gamecast',\n",
       "    'isExternal': False,\n",
       "    'isPremium': False}],\n",
       "  'status': {'clock': 0.0,\n",
       "   'displayClock': '0:00',\n",
       "   'period': 1,\n",
       "   'type': {'id': '1',\n",
       "    'name': 'STATUS_SCHEDULED',\n",
       "    'state': 'pre',\n",
       "    'completed': False,\n",
       "    'description': 'Scheduled',\n",
       "    'detail': 'Fri, February 24th at 3:10 PM EST',\n",
       "    'shortDetail': '2/24 - 3:10 PM EST'}}}]"
      ]
     },
     "execution_count": 18,
     "metadata": {},
     "output_type": "execute_result"
    }
   ],
   "source": [
    "all_games"
   ]
  },
  {
   "cell_type": "code",
   "execution_count": 31,
   "id": "2d6c9a08",
   "metadata": {},
   "outputs": [
    {
     "data": {
      "text/plain": [
       "{'clock': 0.0,\n",
       " 'displayClock': '0:00',\n",
       " 'period': 1,\n",
       " 'type': {'id': '1',\n",
       "  'name': 'STATUS_SCHEDULED',\n",
       "  'state': 'pre',\n",
       "  'completed': False,\n",
       "  'description': 'Scheduled',\n",
       "  'detail': 'Fri, February 24th at 3:05 PM EST',\n",
       "  'shortDetail': '2/24 - 3:05 PM EST'}}"
      ]
     },
     "execution_count": 31,
     "metadata": {},
     "output_type": "execute_result"
    }
   ],
   "source": [
    "all_games[0][\"status\"]"
   ]
  },
  {
   "cell_type": "code",
   "execution_count": 30,
   "id": "bd924cc0",
   "metadata": {},
   "outputs": [
    {
     "name": "stdout",
     "output_type": "stream",
     "text": [
      "{'clock': 0.0, 'displayClock': '0:00', 'period': 1, 'type': {'id': '1', 'name': 'STATUS_SCHEDULED', 'state': 'pre', 'completed': False, 'description': 'Scheduled', 'detail': 'Fri, February 24th at 3:05 PM EST', 'shortDetail': '2/24 - 3:05 PM EST'}}\n",
      "Texas Rangers at Kansas City Royals\n",
      "Seattle Mariners at San Diego Padres\n"
     ]
    }
   ],
   "source": [
    "\n",
    "print(all_games[0][\"name\"])\n",
    "print(all_games[1][\"name\"])\n"
   ]
  },
  {
   "cell_type": "code",
   "execution_count": 28,
   "id": "01b3ea97",
   "metadata": {},
   "outputs": [
    {
     "data": {
      "text/plain": [
       "'Texas Rangers at Kansas City Royals'"
      ]
     },
     "execution_count": 28,
     "metadata": {},
     "output_type": "execute_result"
    }
   ],
   "source": [
    "game = all_games[0]\n",
    "game['name']\n"
   ]
  },
  {
   "cell_type": "code",
   "execution_count": 29,
   "id": "84ed47e8",
   "metadata": {},
   "outputs": [
    {
     "data": {
      "text/plain": [
       "'TEX @ KC'"
      ]
     },
     "execution_count": 29,
     "metadata": {},
     "output_type": "execute_result"
    }
   ],
   "source": [
    "game['shortName']"
   ]
  },
  {
   "cell_type": "code",
   "execution_count": 25,
   "id": "7ac3c00f",
   "metadata": {},
   "outputs": [
    {
     "data": {
      "text/plain": [
       "{'year': 2023, 'type': 1, 'slug': 'preseason'}"
      ]
     },
     "execution_count": 25,
     "metadata": {},
     "output_type": "execute_result"
    }
   ],
   "source": [
    "game['season']"
   ]
  },
  {
   "cell_type": "code",
   "execution_count": 32,
   "id": "6cc05230",
   "metadata": {},
   "outputs": [
    {
     "data": {
      "text/plain": [
       "[{'language': 'en-US',\n",
       "  'rel': ['summary', 'desktop', 'event'],\n",
       "  'href': 'https://www.espn.com/mlb/game/_/gameId/401481016',\n",
       "  'text': 'Gamecast',\n",
       "  'shortText': 'Gamecast',\n",
       "  'isExternal': False,\n",
       "  'isPremium': False}]"
      ]
     },
     "execution_count": 32,
     "metadata": {},
     "output_type": "execute_result"
    }
   ],
   "source": [
    "game[\"links\"]"
   ]
  },
  {
   "cell_type": "code",
   "execution_count": 33,
   "id": "ed101085",
   "metadata": {},
   "outputs": [
    {
     "data": {
      "text/plain": [
       "'401481016'"
      ]
     },
     "execution_count": 33,
     "metadata": {},
     "output_type": "execute_result"
    }
   ],
   "source": [
    "game['id']"
   ]
  },
  {
   "cell_type": "code",
   "execution_count": 34,
   "id": "84c71390",
   "metadata": {},
   "outputs": [
    {
     "data": {
      "text/plain": [
       "1"
      ]
     },
     "execution_count": 34,
     "metadata": {},
     "output_type": "execute_result"
    }
   ],
   "source": [
    "type(game['competitions'])\n",
    "len(game['competitions'])"
   ]
  },
  {
   "cell_type": "code",
   "execution_count": 35,
   "id": "b5e4134f",
   "metadata": {},
   "outputs": [
    {
     "data": {
      "text/plain": [
       "dict_keys(['id', 'uid', 'date', 'attendance', 'type', 'timeValid', 'neutralSite', 'conferenceCompetition', 'recent', 'wasSuspended', 'venue', 'competitors', 'notes', 'status', 'broadcasts', 'format', 'tickets', 'startDate', 'geoBroadcasts'])"
      ]
     },
     "execution_count": 35,
     "metadata": {},
     "output_type": "execute_result"
    }
   ],
   "source": [
    "type(game['competitions'][0])\n",
    "game['competitions'][0].keys()"
   ]
  },
  {
   "cell_type": "code",
   "execution_count": 36,
   "id": "15656613",
   "metadata": {},
   "outputs": [
    {
     "data": {
      "text/plain": [
       "'401481016'"
      ]
     },
     "execution_count": 36,
     "metadata": {},
     "output_type": "execute_result"
    }
   ],
   "source": [
    "competitionKey = game['competitions'][0]\n",
    "competitionKey['id']"
   ]
  },
  {
   "cell_type": "code",
   "execution_count": 37,
   "id": "801f38a7",
   "metadata": {},
   "outputs": [
    {
     "data": {
      "text/plain": [
       "'2023-02-24T20:05Z'"
      ]
     },
     "execution_count": 37,
     "metadata": {},
     "output_type": "execute_result"
    }
   ],
   "source": [
    "competitionKey['date']"
   ]
  },
  {
   "cell_type": "code",
   "execution_count": 38,
   "id": "0702202f",
   "metadata": {},
   "outputs": [
    {
     "data": {
      "text/plain": [
       "0"
      ]
     },
     "execution_count": 38,
     "metadata": {},
     "output_type": "execute_result"
    }
   ],
   "source": [
    "competitionKey['attendance']"
   ]
  },
  {
   "cell_type": "code",
   "execution_count": 39,
   "id": "96fd1485",
   "metadata": {},
   "outputs": [
    {
     "data": {
      "text/plain": [
       "{'id': '18', 'abbreviation': 'EXH'}"
      ]
     },
     "execution_count": 39,
     "metadata": {},
     "output_type": "execute_result"
    }
   ],
   "source": [
    "competitionKey['type']"
   ]
  },
  {
   "cell_type": "code",
   "execution_count": 40,
   "id": "84320293",
   "metadata": {},
   "outputs": [
    {
     "data": {
      "text/plain": [
       "True"
      ]
     },
     "execution_count": 40,
     "metadata": {},
     "output_type": "execute_result"
    }
   ],
   "source": [
    "competitionKey['timeValid']"
   ]
  },
  {
   "cell_type": "code",
   "execution_count": 41,
   "id": "f1e097e1",
   "metadata": {},
   "outputs": [
    {
     "data": {
      "text/plain": [
       "False"
      ]
     },
     "execution_count": 41,
     "metadata": {},
     "output_type": "execute_result"
    }
   ],
   "source": [
    "#i assume this is like if its not hosted in either teams city\n",
    "competitionKey['neutralSite']\n"
   ]
  },
  {
   "cell_type": "code",
   "execution_count": 42,
   "id": "4bfc5a85",
   "metadata": {},
   "outputs": [
    {
     "data": {
      "text/plain": [
       "False"
      ]
     },
     "execution_count": 42,
     "metadata": {},
     "output_type": "execute_result"
    }
   ],
   "source": [
    "competitionKey['recent']"
   ]
  },
  {
   "cell_type": "code",
   "execution_count": 45,
   "id": "d2ec8b90",
   "metadata": {},
   "outputs": [
    {
     "data": {
      "text/plain": [
       "{'id': '173',\n",
       " 'fullName': 'Surprise Stadium',\n",
       " 'address': {'city': 'Surprise', 'state': 'Arizona'},\n",
       " 'capacity': 0,\n",
       " 'indoor': False}"
      ]
     },
     "execution_count": 45,
     "metadata": {},
     "output_type": "execute_result"
    }
   ],
   "source": [
    "competitionKey['venue']"
   ]
  },
  {
   "cell_type": "code",
   "execution_count": 46,
   "id": "f2884fcd",
   "metadata": {},
   "outputs": [
    {
     "data": {
      "text/plain": [
       "2"
      ]
     },
     "execution_count": 46,
     "metadata": {},
     "output_type": "execute_result"
    }
   ],
   "source": [
    "len(competitionKey['competitors'])"
   ]
  },
  {
   "cell_type": "code",
   "execution_count": 51,
   "id": "7de4526b",
   "metadata": {},
   "outputs": [
    {
     "name": "stdout",
     "output_type": "stream",
     "text": [
      "{'id': '7', 'uid': 's:1~l:10~t:7', 'type': 'team', 'order': 0, 'homeAway': 'home', 'team': {'id': '7', 'uid': 's:1~l:10~t:7', 'location': 'Kansas City', 'name': 'Royals', 'abbreviation': 'KC', 'displayName': 'Kansas City Royals', 'shortDisplayName': 'Royals', 'color': '003b72', 'alternateColor': '7ab2dd', 'isActive': True, 'links': [{'rel': ['clubhouse', 'desktop', 'team'], 'href': 'https://www.espn.com/mlb/team/_/name/kc/kansas-city-royals', 'text': 'Clubhouse', 'isExternal': False, 'isPremium': False}, {'rel': ['roster', 'desktop', 'team'], 'href': 'http://www.espn.com/mlb/team/roster/_/name/kc/kansas-city-royals', 'text': 'Roster', 'isExternal': False, 'isPremium': False}, {'rel': ['stats', 'desktop', 'team'], 'href': 'http://www.espn.com/mlb/team/stats/_/name/kc/kansas-city-royals', 'text': 'Statistics', 'isExternal': False, 'isPremium': False}, {'rel': ['schedule', 'desktop', 'team'], 'href': 'https://www.espn.com/mlb/team/schedule/_/name/kc', 'text': 'Schedule', 'isExternal': False, 'isPremium': False}, {'rel': ['photos', 'desktop', 'team'], 'href': 'https://www.espn.com/mlb/team/photos/_/name/kc', 'text': 'photos', 'isExternal': False, 'isPremium': False}, {'rel': ['scores', 'sportscenter', 'app', 'team'], 'href': 'sportscenter://x-callback-url/showClubhouse?uid=s:1~l:10~t:7&section=scores', 'text': 'Scores', 'isExternal': False, 'isPremium': False}, {'rel': ['transactions', 'desktop', 'team'], 'href': 'https://www.espn.com/mlb/team/transactions/_/name/kc', 'text': 'Transactions', 'isExternal': False, 'isPremium': False}, {'rel': ['injuries', 'desktop', 'team'], 'href': 'https://www.espn.com/mlb/team/injuries/_/name/kc', 'text': 'Injuries', 'isExternal': False, 'isPremium': False}, {'rel': ['depthchart', 'desktop', 'team'], 'href': 'https://www.espn.com/mlb/team/depth/_/name/kc', 'text': 'Depth Chart', 'isExternal': False, 'isPremium': False}], 'logo': 'https://a.espncdn.com/i/teamlogos/mlb/500/scoreboard/kc.png'}, 'score': '0', 'statistics': [], 'hits': 0, 'errors': 0}\n"
     ]
    }
   ],
   "source": [
    "homeTeam = competitionKey['competitors'][0]\n",
    "print(homeTeam)"
   ]
  },
  {
   "cell_type": "code",
   "execution_count": 56,
   "id": "4254c625",
   "metadata": {},
   "outputs": [],
   "source": [
    "awayTeam = competitionKey['competitors'][1]\n",
    "homeTeam = competitionKey['competitors'][0]"
   ]
  },
  {
   "cell_type": "code",
   "execution_count": 57,
   "id": "665bc63f",
   "metadata": {},
   "outputs": [
    {
     "name": "stdout",
     "output_type": "stream",
     "text": [
      "0\n",
      "0\n"
     ]
    }
   ],
   "source": [
    "print(homeTeam['score'])\n",
    "print(awayTeam['score'])"
   ]
  },
  {
   "cell_type": "code",
   "execution_count": null,
   "id": "48fe1b36",
   "metadata": {},
   "outputs": [],
   "source": []
  },
  {
   "cell_type": "code",
   "execution_count": null,
   "id": "473f35f4",
   "metadata": {},
   "outputs": [],
   "source": []
  },
  {
   "cell_type": "code",
   "execution_count": 53,
   "id": "eafe9c8b",
   "metadata": {},
   "outputs": [
    {
     "data": {
      "text/plain": [
       "[{'id': '7',\n",
       "  'uid': 's:1~l:10~t:7',\n",
       "  'type': 'team',\n",
       "  'order': 0,\n",
       "  'homeAway': 'home',\n",
       "  'team': {'id': '7',\n",
       "   'uid': 's:1~l:10~t:7',\n",
       "   'location': 'Kansas City',\n",
       "   'name': 'Royals',\n",
       "   'abbreviation': 'KC',\n",
       "   'displayName': 'Kansas City Royals',\n",
       "   'shortDisplayName': 'Royals',\n",
       "   'color': '003b72',\n",
       "   'alternateColor': '7ab2dd',\n",
       "   'isActive': True,\n",
       "   'links': [{'rel': ['clubhouse', 'desktop', 'team'],\n",
       "     'href': 'https://www.espn.com/mlb/team/_/name/kc/kansas-city-royals',\n",
       "     'text': 'Clubhouse',\n",
       "     'isExternal': False,\n",
       "     'isPremium': False},\n",
       "    {'rel': ['roster', 'desktop', 'team'],\n",
       "     'href': 'http://www.espn.com/mlb/team/roster/_/name/kc/kansas-city-royals',\n",
       "     'text': 'Roster',\n",
       "     'isExternal': False,\n",
       "     'isPremium': False},\n",
       "    {'rel': ['stats', 'desktop', 'team'],\n",
       "     'href': 'http://www.espn.com/mlb/team/stats/_/name/kc/kansas-city-royals',\n",
       "     'text': 'Statistics',\n",
       "     'isExternal': False,\n",
       "     'isPremium': False},\n",
       "    {'rel': ['schedule', 'desktop', 'team'],\n",
       "     'href': 'https://www.espn.com/mlb/team/schedule/_/name/kc',\n",
       "     'text': 'Schedule',\n",
       "     'isExternal': False,\n",
       "     'isPremium': False},\n",
       "    {'rel': ['photos', 'desktop', 'team'],\n",
       "     'href': 'https://www.espn.com/mlb/team/photos/_/name/kc',\n",
       "     'text': 'photos',\n",
       "     'isExternal': False,\n",
       "     'isPremium': False},\n",
       "    {'rel': ['scores', 'sportscenter', 'app', 'team'],\n",
       "     'href': 'sportscenter://x-callback-url/showClubhouse?uid=s:1~l:10~t:7&section=scores',\n",
       "     'text': 'Scores',\n",
       "     'isExternal': False,\n",
       "     'isPremium': False},\n",
       "    {'rel': ['transactions', 'desktop', 'team'],\n",
       "     'href': 'https://www.espn.com/mlb/team/transactions/_/name/kc',\n",
       "     'text': 'Transactions',\n",
       "     'isExternal': False,\n",
       "     'isPremium': False},\n",
       "    {'rel': ['injuries', 'desktop', 'team'],\n",
       "     'href': 'https://www.espn.com/mlb/team/injuries/_/name/kc',\n",
       "     'text': 'Injuries',\n",
       "     'isExternal': False,\n",
       "     'isPremium': False},\n",
       "    {'rel': ['depthchart', 'desktop', 'team'],\n",
       "     'href': 'https://www.espn.com/mlb/team/depth/_/name/kc',\n",
       "     'text': 'Depth Chart',\n",
       "     'isExternal': False,\n",
       "     'isPremium': False}],\n",
       "   'logo': 'https://a.espncdn.com/i/teamlogos/mlb/500/scoreboard/kc.png'},\n",
       "  'score': '0',\n",
       "  'statistics': [],\n",
       "  'hits': 0,\n",
       "  'errors': 0},\n",
       " {'id': '13',\n",
       "  'uid': 's:1~l:10~t:13',\n",
       "  'type': 'team',\n",
       "  'order': 1,\n",
       "  'homeAway': 'away',\n",
       "  'team': {'id': '13',\n",
       "   'uid': 's:1~l:10~t:13',\n",
       "   'location': 'Texas',\n",
       "   'name': 'Rangers',\n",
       "   'abbreviation': 'TEX',\n",
       "   'displayName': 'Texas Rangers',\n",
       "   'shortDisplayName': 'Rangers',\n",
       "   'color': '003879',\n",
       "   'alternateColor': 'c0111f',\n",
       "   'isActive': True,\n",
       "   'links': [{'rel': ['clubhouse', 'desktop', 'team'],\n",
       "     'href': 'https://www.espn.com/mlb/team/_/name/tex/texas-rangers',\n",
       "     'text': 'Clubhouse',\n",
       "     'isExternal': False,\n",
       "     'isPremium': False},\n",
       "    {'rel': ['roster', 'desktop', 'team'],\n",
       "     'href': 'http://www.espn.com/mlb/team/roster/_/name/tex/texas-rangers',\n",
       "     'text': 'Roster',\n",
       "     'isExternal': False,\n",
       "     'isPremium': False},\n",
       "    {'rel': ['stats', 'desktop', 'team'],\n",
       "     'href': 'http://www.espn.com/mlb/team/stats/_/name/tex/texas-rangers',\n",
       "     'text': 'Statistics',\n",
       "     'isExternal': False,\n",
       "     'isPremium': False},\n",
       "    {'rel': ['schedule', 'desktop', 'team'],\n",
       "     'href': 'https://www.espn.com/mlb/team/schedule/_/name/tex',\n",
       "     'text': 'Schedule',\n",
       "     'isExternal': False,\n",
       "     'isPremium': False},\n",
       "    {'rel': ['photos', 'desktop', 'team'],\n",
       "     'href': 'https://www.espn.com/mlb/team/photos/_/name/tex',\n",
       "     'text': 'photos',\n",
       "     'isExternal': False,\n",
       "     'isPremium': False},\n",
       "    {'rel': ['scores', 'sportscenter', 'app', 'team'],\n",
       "     'href': 'sportscenter://x-callback-url/showClubhouse?uid=s:1~l:10~t:13&section=scores',\n",
       "     'text': 'Scores',\n",
       "     'isExternal': False,\n",
       "     'isPremium': False},\n",
       "    {'rel': ['transactions', 'desktop', 'team'],\n",
       "     'href': 'https://www.espn.com/mlb/team/transactions/_/name/tex',\n",
       "     'text': 'Transactions',\n",
       "     'isExternal': False,\n",
       "     'isPremium': False},\n",
       "    {'rel': ['injuries', 'desktop', 'team'],\n",
       "     'href': 'https://www.espn.com/mlb/team/injuries/_/name/tex',\n",
       "     'text': 'Injuries',\n",
       "     'isExternal': False,\n",
       "     'isPremium': False},\n",
       "    {'rel': ['depthchart', 'desktop', 'team'],\n",
       "     'href': 'https://www.espn.com/mlb/team/depth/_/name/tex',\n",
       "     'text': 'Depth Chart',\n",
       "     'isExternal': False,\n",
       "     'isPremium': False}],\n",
       "   'logo': 'https://a.espncdn.com/i/teamlogos/mlb/500/scoreboard/tex.png'},\n",
       "  'score': '0',\n",
       "  'statistics': [],\n",
       "  'hits': 0,\n",
       "  'errors': 0}]"
      ]
     },
     "execution_count": 53,
     "metadata": {},
     "output_type": "execute_result"
    }
   ],
   "source": [
    "competitionKey['competitors']"
   ]
  },
  {
   "cell_type": "code",
   "execution_count": null,
   "id": "5b2decb7",
   "metadata": {},
   "outputs": [],
   "source": [
    "response.json()['events'][0]['competitions'][0]['competitors'][0]['score']"
   ]
  }
 ],
 "metadata": {
  "kernelspec": {
   "display_name": "Python 3 (ipykernel)",
   "language": "python",
   "name": "python3"
  },
  "language_info": {
   "codemirror_mode": {
    "name": "ipython",
    "version": 3
   },
   "file_extension": ".py",
   "mimetype": "text/x-python",
   "name": "python",
   "nbconvert_exporter": "python",
   "pygments_lexer": "ipython3",
   "version": "3.8.9"
  }
 },
 "nbformat": 4,
 "nbformat_minor": 5
}
